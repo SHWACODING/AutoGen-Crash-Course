{
 "cells": [
  {
   "cell_type": "markdown",
   "id": "b5b3fdf7",
   "metadata": {},
   "source": [
    "### AutoGen With OpenRouter API Free "
   ]
  },
  {
   "cell_type": "code",
   "execution_count": 1,
   "id": "c9465581",
   "metadata": {},
   "outputs": [],
   "source": [
    "import os\n",
    "from dotenv import load_dotenv\n",
    "\n",
    "load_dotenv()\n",
    "\n",
    "os.environ[\"OPENROUTER_API_KEY\"] = os.getenv(\"OPENROUTER_API_KEY\")"
   ]
  },
  {
   "cell_type": "code",
   "execution_count": 2,
   "id": "29a0d5fe",
   "metadata": {},
   "outputs": [],
   "source": [
    "from autogen_agentchat.agents import AssistantAgent\n",
    "from autogen_ext.models.openai import OpenAIChatCompletionClient"
   ]
  },
  {
   "cell_type": "code",
   "execution_count": 4,
   "id": "3ba2d5b2",
   "metadata": {},
   "outputs": [
    {
     "name": "stderr",
     "output_type": "stream",
     "text": [
      "c:\\Users\\hp\\anaconda3\\envs\\autogen-env\\Lib\\site-packages\\autogen_ext\\models\\openai\\_openai_client.py:453: UserWarning: Missing required field 'structured_output' in ModelInfo. This field will be required in a future version of AutoGen.\n",
      "  validate_model_info(self._model_info)\n"
     ]
    }
   ],
   "source": [
    "open_router_model_client = OpenAIChatCompletionClient(\n",
    "    base_url=\"https://openrouter.ai/api/v1\",\n",
    "    model=\"mistralai/mistral-small-3.2-24b-instruct:free\",\n",
    "    api_key=os.getenv(\"OPENROUTER_API_KEY\"),\n",
    "    model_info={\n",
    "        \"family\": \"mistral\",\n",
    "        \"vision\": True,\n",
    "        \"function_calling\": True,\n",
    "        \"json_output\": False\n",
    "    }\n",
    ")"
   ]
  },
  {
   "cell_type": "code",
   "execution_count": 5,
   "id": "81cf0df4",
   "metadata": {},
   "outputs": [],
   "source": [
    "assistant_agent = AssistantAgent(\n",
    "    name=\"helpful_agent\",\n",
    "    model_client=open_router_model_client,\n",
    "    system_message='You are a helpful assistant Agent'\n",
    ")"
   ]
  },
  {
   "cell_type": "code",
   "execution_count": 6,
   "id": "c054d3ff",
   "metadata": {},
   "outputs": [
    {
     "data": {
      "text/plain": [
       "<autogen_agentchat.agents._assistant_agent.AssistantAgent at 0x27dccb66ad0>"
      ]
     },
     "execution_count": 6,
     "metadata": {},
     "output_type": "execute_result"
    }
   ],
   "source": [
    "assistant_agent"
   ]
  },
  {
   "cell_type": "code",
   "execution_count": 7,
   "id": "3d638e95",
   "metadata": {},
   "outputs": [
    {
     "data": {
      "text/plain": [
       "TaskResult(messages=[TextMessage(id='d9f64b36-f133-471e-939d-59fa46e1dfd1', source='user', models_usage=None, metadata={}, created_at=datetime.datetime(2025, 8, 4, 16, 22, 59, 647051, tzinfo=datetime.timezone.utc), content='What is Fast Fourier Transform Algorithm?', type='TextMessage'), TextMessage(id='bbc1ab12-1a3e-443d-92aa-cdeee273130e', source='helpful_agent', models_usage=RequestUsage(prompt_tokens=19, completion_tokens=647), metadata={}, created_at=datetime.datetime(2025, 8, 4, 16, 23, 19, 6416, tzinfo=datetime.timezone.utc), content='The **Fast Fourier Transform (FFT)** is a highly efficient algorithm for computing the **Discrete Fourier Transform (DFT)** and its inverse. The DFT is a mathematical tool used to transform a sequence of values from its original domain (often time or space) into the frequency domain, making it easier to analyze the frequency components of a signal.\\n\\n### Key Points About FFT:\\n1. **Efficiency**:\\n   - The FFT algorithm reduces the computational complexity of the DFT from **O(n²)** to **O(n log n)**, making it much faster for large datasets.\\n   - This efficiency arises from exploiting symmetries and periodicity in the DFT matrix.\\n\\n2. **Basic Idea**:\\n   - The FFT recursively breaks down a DFT of any composite size \\\\( n = n_1 n_2 \\\\) into many smaller DFTs of sizes \\\\( n_1 \\\\) and \\\\( n_2 \\\\).\\n   - The most common form is the **Radix-2 FFT**, which splits the DFT into two smaller DFTs of half the length (hence \\\\( n \\\\) must be a power of 2).\\n\\n3. **Math Behind FFT**:\\n   - The FFT can be derived using **Danielson-Lanczos lemma**, which separates the DFT into even and odd indices.\\n   - The algorithm can be implemented with **butterfly operations**, which merge intermediate results efficiently.\\n\\n4. **Applications**:\\n   - Signal processing (e.g., audio analysis, filtering).\\n   - Image processing (e.g., JPEG compression, image filtering).\\n   - Solving partial differential equations efficiently.\\n   - Cryptography and pattern recognition.\\n\\n5. **Variants**:\\n   - **Radix-2 FFT**: Assumes \\\\( n \\\\) is a power of 2.\\n   - **Mixed-Radix FFT**: Handles non-power-of-two sizes.\\n   - **Split-Radix FFT**: Combines radix-2 and radix-4 for better efficiency.\\n   - **Prime-Factor FFT (PFA)**: Generalizes FFT to any composite size using the Chinese Remainder Theorem.\\n\\n### Example (Radix-2 FFT):\\nFor a signal \\\\( x[n] \\\\) of length \\\\( N = 8 \\\\), the FFT process involves:\\n1. **Decimate-in-Time (DIT)**: Split into even and odd indexed samples.\\n2. **Recursively compute smaller FFTs** (size 4, then size 2, and finally size 1).\\n3. **Combine results** using the **twiddle factors** \\\\( W_N^k = e^{-j 2\\\\pi k / N} \\\\).\\n\\n### Python Example (using `numpy`):\\n```python\\nimport numpy as np\\n\\n# Original signal\\nx = np.array([0, 1, 2, 3, 4, 5, 6, 7])\\n\\n# Compute FFT\\nX = np.fft.fft(x)\\nprint(\"FFT Result:\", X)\\n```\\n\\n### Summary:\\nThe FFT is a fundamental algorithm in engineering and science, enabling fast frequency analysis of signals. Its speed and versatility make it indispensable in modern computing. Would you like a deeper explanation of any specific aspect?', type='TextMessage')], stop_reason=None)"
      ]
     },
     "execution_count": 7,
     "metadata": {},
     "output_type": "execute_result"
    }
   ],
   "source": [
    "response = await assistant_agent.run(task=\"What is Fast Fourier Transform Algorithm?\")\n",
    "\n",
    "response"
   ]
  },
  {
   "cell_type": "code",
   "execution_count": 8,
   "id": "07423d77",
   "metadata": {},
   "outputs": [
    {
     "name": "stdout",
     "output_type": "stream",
     "text": [
      "[TextMessage(id='d9f64b36-f133-471e-939d-59fa46e1dfd1', source='user', models_usage=None, metadata={}, created_at=datetime.datetime(2025, 8, 4, 16, 22, 59, 647051, tzinfo=datetime.timezone.utc), content='What is Fast Fourier Transform Algorithm?', type='TextMessage'), TextMessage(id='bbc1ab12-1a3e-443d-92aa-cdeee273130e', source='helpful_agent', models_usage=RequestUsage(prompt_tokens=19, completion_tokens=647), metadata={}, created_at=datetime.datetime(2025, 8, 4, 16, 23, 19, 6416, tzinfo=datetime.timezone.utc), content='The **Fast Fourier Transform (FFT)** is a highly efficient algorithm for computing the **Discrete Fourier Transform (DFT)** and its inverse. The DFT is a mathematical tool used to transform a sequence of values from its original domain (often time or space) into the frequency domain, making it easier to analyze the frequency components of a signal.\\n\\n### Key Points About FFT:\\n1. **Efficiency**:\\n   - The FFT algorithm reduces the computational complexity of the DFT from **O(n²)** to **O(n log n)**, making it much faster for large datasets.\\n   - This efficiency arises from exploiting symmetries and periodicity in the DFT matrix.\\n\\n2. **Basic Idea**:\\n   - The FFT recursively breaks down a DFT of any composite size \\\\( n = n_1 n_2 \\\\) into many smaller DFTs of sizes \\\\( n_1 \\\\) and \\\\( n_2 \\\\).\\n   - The most common form is the **Radix-2 FFT**, which splits the DFT into two smaller DFTs of half the length (hence \\\\( n \\\\) must be a power of 2).\\n\\n3. **Math Behind FFT**:\\n   - The FFT can be derived using **Danielson-Lanczos lemma**, which separates the DFT into even and odd indices.\\n   - The algorithm can be implemented with **butterfly operations**, which merge intermediate results efficiently.\\n\\n4. **Applications**:\\n   - Signal processing (e.g., audio analysis, filtering).\\n   - Image processing (e.g., JPEG compression, image filtering).\\n   - Solving partial differential equations efficiently.\\n   - Cryptography and pattern recognition.\\n\\n5. **Variants**:\\n   - **Radix-2 FFT**: Assumes \\\\( n \\\\) is a power of 2.\\n   - **Mixed-Radix FFT**: Handles non-power-of-two sizes.\\n   - **Split-Radix FFT**: Combines radix-2 and radix-4 for better efficiency.\\n   - **Prime-Factor FFT (PFA)**: Generalizes FFT to any composite size using the Chinese Remainder Theorem.\\n\\n### Example (Radix-2 FFT):\\nFor a signal \\\\( x[n] \\\\) of length \\\\( N = 8 \\\\), the FFT process involves:\\n1. **Decimate-in-Time (DIT)**: Split into even and odd indexed samples.\\n2. **Recursively compute smaller FFTs** (size 4, then size 2, and finally size 1).\\n3. **Combine results** using the **twiddle factors** \\\\( W_N^k = e^{-j 2\\\\pi k / N} \\\\).\\n\\n### Python Example (using `numpy`):\\n```python\\nimport numpy as np\\n\\n# Original signal\\nx = np.array([0, 1, 2, 3, 4, 5, 6, 7])\\n\\n# Compute FFT\\nX = np.fft.fft(x)\\nprint(\"FFT Result:\", X)\\n```\\n\\n### Summary:\\nThe FFT is a fundamental algorithm in engineering and science, enabling fast frequency analysis of signals. Its speed and versatility make it indispensable in modern computing. Would you like a deeper explanation of any specific aspect?', type='TextMessage')]\n"
     ]
    }
   ],
   "source": [
    "print(response.messages)"
   ]
  },
  {
   "cell_type": "code",
   "execution_count": 9,
   "id": "0fee504c",
   "metadata": {},
   "outputs": [
    {
     "name": "stdout",
     "output_type": "stream",
     "text": [
      "The **Fast Fourier Transform (FFT)** is a highly efficient algorithm for computing the **Discrete Fourier Transform (DFT)** and its inverse. The DFT is a mathematical tool used to transform a sequence of values from its original domain (often time or space) into the frequency domain, making it easier to analyze the frequency components of a signal.\n",
      "\n",
      "### Key Points About FFT:\n",
      "1. **Efficiency**:\n",
      "   - The FFT algorithm reduces the computational complexity of the DFT from **O(n²)** to **O(n log n)**, making it much faster for large datasets.\n",
      "   - This efficiency arises from exploiting symmetries and periodicity in the DFT matrix.\n",
      "\n",
      "2. **Basic Idea**:\n",
      "   - The FFT recursively breaks down a DFT of any composite size \\( n = n_1 n_2 \\) into many smaller DFTs of sizes \\( n_1 \\) and \\( n_2 \\).\n",
      "   - The most common form is the **Radix-2 FFT**, which splits the DFT into two smaller DFTs of half the length (hence \\( n \\) must be a power of 2).\n",
      "\n",
      "3. **Math Behind FFT**:\n",
      "   - The FFT can be derived using **Danielson-Lanczos lemma**, which separates the DFT into even and odd indices.\n",
      "   - The algorithm can be implemented with **butterfly operations**, which merge intermediate results efficiently.\n",
      "\n",
      "4. **Applications**:\n",
      "   - Signal processing (e.g., audio analysis, filtering).\n",
      "   - Image processing (e.g., JPEG compression, image filtering).\n",
      "   - Solving partial differential equations efficiently.\n",
      "   - Cryptography and pattern recognition.\n",
      "\n",
      "5. **Variants**:\n",
      "   - **Radix-2 FFT**: Assumes \\( n \\) is a power of 2.\n",
      "   - **Mixed-Radix FFT**: Handles non-power-of-two sizes.\n",
      "   - **Split-Radix FFT**: Combines radix-2 and radix-4 for better efficiency.\n",
      "   - **Prime-Factor FFT (PFA)**: Generalizes FFT to any composite size using the Chinese Remainder Theorem.\n",
      "\n",
      "### Example (Radix-2 FFT):\n",
      "For a signal \\( x[n] \\) of length \\( N = 8 \\), the FFT process involves:\n",
      "1. **Decimate-in-Time (DIT)**: Split into even and odd indexed samples.\n",
      "2. **Recursively compute smaller FFTs** (size 4, then size 2, and finally size 1).\n",
      "3. **Combine results** using the **twiddle factors** \\( W_N^k = e^{-j 2\\pi k / N} \\).\n",
      "\n",
      "### Python Example (using `numpy`):\n",
      "```python\n",
      "import numpy as np\n",
      "\n",
      "# Original signal\n",
      "x = np.array([0, 1, 2, 3, 4, 5, 6, 7])\n",
      "\n",
      "# Compute FFT\n",
      "X = np.fft.fft(x)\n",
      "print(\"FFT Result:\", X)\n",
      "```\n",
      "\n",
      "### Summary:\n",
      "The FFT is a fundamental algorithm in engineering and science, enabling fast frequency analysis of signals. Its speed and versatility make it indispensable in modern computing. Would you like a deeper explanation of any specific aspect?\n"
     ]
    }
   ],
   "source": [
    "print(response.messages[-1].content)"
   ]
  },
  {
   "cell_type": "code",
   "execution_count": null,
   "id": "1425f180",
   "metadata": {},
   "outputs": [],
   "source": []
  }
 ],
 "metadata": {
  "kernelspec": {
   "display_name": "autogen-env",
   "language": "python",
   "name": "python3"
  },
  "language_info": {
   "codemirror_mode": {
    "name": "ipython",
    "version": 3
   },
   "file_extension": ".py",
   "mimetype": "text/x-python",
   "name": "python",
   "nbconvert_exporter": "python",
   "pygments_lexer": "ipython3",
   "version": "3.11.13"
  }
 },
 "nbformat": 4,
 "nbformat_minor": 5
}
