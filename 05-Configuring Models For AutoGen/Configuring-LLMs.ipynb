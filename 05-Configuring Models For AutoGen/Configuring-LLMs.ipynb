{
 "cells": [
  {
   "cell_type": "markdown",
   "id": "0607b4c7",
   "metadata": {},
   "source": [
    "### LLMs Config"
   ]
  },
  {
   "cell_type": "code",
   "execution_count": 7,
   "id": "ee73f894",
   "metadata": {},
   "outputs": [],
   "source": [
    "from autogen_agentchat.agents import AssistantAgent\n",
    "from autogen_ext.models.openai import OpenAIChatCompletionClient\n",
    "from autogen_ext.models.ollama import OllamaChatCompletionClient\n",
    "from autogen_core.models import UserMessage"
   ]
  },
  {
   "cell_type": "markdown",
   "id": "585a04b0",
   "metadata": {},
   "source": [
    "#### 1- Gemini"
   ]
  },
  {
   "cell_type": "code",
   "execution_count": 2,
   "id": "d6837670",
   "metadata": {},
   "outputs": [],
   "source": [
    "import os\n",
    "from dotenv import load_dotenv\n",
    "\n",
    "load_dotenv()\n",
    "\n",
    "os.environ[\"GEMINI_API_KEY\"] = os.getenv(\"GEMINI_API_KEY\")"
   ]
  },
  {
   "cell_type": "code",
   "execution_count": 3,
   "id": "0596d06e",
   "metadata": {},
   "outputs": [],
   "source": [
    "model_client_gemini = OpenAIChatCompletionClient(\n",
    "    model=\"gemini-1.5-flash\",\n",
    "    api_key=os.getenv(\"GEMINI_API_KEY\")\n",
    ")"
   ]
  },
  {
   "cell_type": "code",
   "execution_count": 4,
   "id": "fab2be8d",
   "metadata": {},
   "outputs": [
    {
     "data": {
      "text/plain": [
       "<autogen_ext.models.openai._openai_client.OpenAIChatCompletionClient at 0x20d163ac290>"
      ]
     },
     "execution_count": 4,
     "metadata": {},
     "output_type": "execute_result"
    }
   ],
   "source": [
    "model_client_gemini"
   ]
  },
  {
   "cell_type": "code",
   "execution_count": 5,
   "id": "c935cf98",
   "metadata": {},
   "outputs": [
    {
     "data": {
      "text/plain": [
       "CreateResult(finish_reason='stop', content=\"I am a large language model, trained by Google.  I'm an AI that can communicate and generate human-like text in response to a wide range of prompts and questions.  I don't have personal experiences, feelings, or a physical body.  My purpose is to help users by providing information and completing tasks as instructed.\\n\", usage=RequestUsage(prompt_tokens=4, completion_tokens=70), cached=False, logprobs=None, thought=None)"
      ]
     },
     "execution_count": 5,
     "metadata": {},
     "output_type": "execute_result"
    }
   ],
   "source": [
    "response = await model_client_gemini.create([UserMessage(content=\"Who are you?\", source=\"user\")])\n",
    "\n",
    "response"
   ]
  },
  {
   "cell_type": "code",
   "execution_count": 6,
   "id": "d4966c1e",
   "metadata": {},
   "outputs": [
    {
     "name": "stdout",
     "output_type": "stream",
     "text": [
      "I am a large language model, trained by Google.  I'm an AI that can communicate and generate human-like text in response to a wide range of prompts and questions.  I don't have personal experiences, feelings, or a physical body.  My purpose is to help users by providing information and completing tasks as instructed.\n",
      "\n"
     ]
    }
   ],
   "source": [
    "print(response.content)"
   ]
  },
  {
   "cell_type": "markdown",
   "id": "64603c40",
   "metadata": {},
   "source": [
    "#### 2- Ollama"
   ]
  },
  {
   "cell_type": "code",
   "execution_count": null,
   "id": "4df07cf8",
   "metadata": {},
   "outputs": [
    {
     "data": {
      "text/plain": [
       "<autogen_ext.models.ollama._ollama_client.OllamaChatCompletionClient at 0x20d19644610>"
      ]
     },
     "execution_count": 8,
     "metadata": {},
     "output_type": "execute_result"
    }
   ],
   "source": [
    "## Assuming your Ollama server is running locally on port 11434.\n",
    "ollama_model_client = OllamaChatCompletionClient(model=\"llama3.2\")\n",
    "\n",
    "ollama_model_client"
   ]
  },
  {
   "cell_type": "code",
   "execution_count": 9,
   "id": "bcafecbe",
   "metadata": {},
   "outputs": [
    {
     "data": {
      "text/plain": [
       "CreateResult(finish_reason='stop', content='The capital of France is Paris.', usage=RequestUsage(prompt_tokens=32, completion_tokens=8), cached=False, logprobs=None, thought=None)"
      ]
     },
     "execution_count": 9,
     "metadata": {},
     "output_type": "execute_result"
    }
   ],
   "source": [
    "response = await ollama_model_client.create([UserMessage(content=\"What is the capital of France?\", source=\"user\")])\n",
    "\n",
    "response"
   ]
  },
  {
   "cell_type": "code",
   "execution_count": 10,
   "id": "11cada20",
   "metadata": {},
   "outputs": [
    {
     "name": "stdout",
     "output_type": "stream",
     "text": [
      "The capital of France is Paris.\n"
     ]
    }
   ],
   "source": [
    "print(response.content)"
   ]
  },
  {
   "cell_type": "code",
   "execution_count": 11,
   "id": "493536ce",
   "metadata": {},
   "outputs": [],
   "source": [
    "await ollama_model_client.close()"
   ]
  },
  {
   "cell_type": "markdown",
   "id": "39ca634f",
   "metadata": {},
   "source": [
    "### Create an Assistant Agent "
   ]
  },
  {
   "cell_type": "code",
   "execution_count": 12,
   "id": "e5fa471f",
   "metadata": {},
   "outputs": [],
   "source": [
    "agent = AssistantAgent(\n",
    "    name=\"assistant\",\n",
    "    model_client=ollama_model_client,\n",
    "    system_message='You are a helpful assistant'\n",
    ")"
   ]
  },
  {
   "cell_type": "code",
   "execution_count": 13,
   "id": "40d1b229",
   "metadata": {},
   "outputs": [
    {
     "data": {
      "text/plain": [
       "<autogen_agentchat.agents._assistant_agent.AssistantAgent at 0x20d1969d590>"
      ]
     },
     "execution_count": 13,
     "metadata": {},
     "output_type": "execute_result"
    }
   ],
   "source": [
    "agent"
   ]
  },
  {
   "cell_type": "code",
   "execution_count": 14,
   "id": "969f768c",
   "metadata": {},
   "outputs": [
    {
     "data": {
      "text/plain": [
       "TaskResult(messages=[TextMessage(id='e6e13a68-077a-4fce-b789-220adfaf072d', source='user', models_usage=None, metadata={}, created_at=datetime.datetime(2025, 8, 4, 16, 5, 35, 697032, tzinfo=datetime.timezone.utc), content='Find information about Labrador Retriever', type='TextMessage'), TextMessage(id='330c1ed1-6169-483a-97d1-08a831c535bb', source='assistant', models_usage=RequestUsage(prompt_tokens=37, completion_tokens=544), metadata={}, created_at=datetime.datetime(2025, 8, 4, 16, 8, 29, 838595, tzinfo=datetime.timezone.utc), content='The Labrador Retriever! One of the most popular breeds in the world, known for their friendly, outgoing, and loyal nature. Here\\'s some valuable information about this amazing breed:\\n\\n**Origin:**\\n\\n* The Labrador Retriever originated in the province of Newfoundland and Labrador, Canada.\\n* They were bred to assist fishermen by retrieving fish, boats, and other gear.\\n* The name \"Labrador\" comes from the French word \"labrador,\" meaning \"land of flowers.\"\\n\\n**Physical Characteristics:**\\n\\n* Coat: Short, dense, and water-resistant coat that can be black, yellow, or chocolate in color.\\n* Size: Males typically weigh between 65-80 pounds (29-36 kg) and stand 22.5-24.5 inches (57-62 cm) tall at the shoulder.\\n* Females are smaller, weighing around 55-70 pounds (25-32 kg).\\n* Eyes: Dark brown, almond-shaped eyes that are expressive and attentive.\\n\\n**Personality:**\\n\\n* Friendly, outgoing, and gentle nature makes them excellent family dogs.\\n* Highly intelligent and trainable, making them popular as guide dogs, search and rescue dogs, and service dogs.\\n* Energetic and playful, but also enjoy relaxing with their owners.\\n* Love people and are quick to form close bonds.\\n\\n**Health:**\\n\\n* Labrador Retriever is generally a healthy breed, but prone to certain health issues:\\n\\t+ Hip dysplasia\\n\\t+ Elbow dysplasia\\n\\t+ Obesity (due to overfeeding or lack of exercise)\\n\\t+ Eye problems (e.g., cataracts, progressive retinal atrophy)\\n\\t+ Cancer (especially osteosarcoma and lymphoma)\\n\\n**Grooming:**\\n\\n* Short coat requires minimal grooming, but regular brushing can help prevent matting.\\n* Nail trimming and ear cleaning are essential for their overall health.\\n\\n**Exercise and Training:**\\n\\n* Need regular exercise to stay happy and healthy:\\n\\t+ Daily walks (30-60 minutes)\\n\\t+ Playtime in the yard or park\\n\\t+ Engage in physical activities like swimming, hiking, or fetch\\n* Highly trainable, but consistency and positive reinforcement are key.\\n\\n**Family Life:**\\n\\n* Excellent with children due to their gentle nature.\\n* Can adapt to apartment living if provided regular exercise and attention.\\n* Enjoy being part of a family and often thrive as a \"velcro dog\" (attached to their owners).\\n\\nOverall, the Labrador Retriever is an incredible breed that makes an excellent companion for active families or individuals. With proper care, training, and socialization, they\\'ll bring joy and love into your life for years to come!', type='TextMessage')], stop_reason=None)"
      ]
     },
     "execution_count": 14,
     "metadata": {},
     "output_type": "execute_result"
    }
   ],
   "source": [
    "result = await agent.run(task=\"Find information about Labrador Retriever\")\n",
    "\n",
    "result"
   ]
  },
  {
   "cell_type": "code",
   "execution_count": 15,
   "id": "a4eff945",
   "metadata": {},
   "outputs": [
    {
     "name": "stdout",
     "output_type": "stream",
     "text": [
      "The Labrador Retriever! One of the most popular breeds in the world, known for their friendly, outgoing, and loyal nature. Here's some valuable information about this amazing breed:\n",
      "\n",
      "**Origin:**\n",
      "\n",
      "* The Labrador Retriever originated in the province of Newfoundland and Labrador, Canada.\n",
      "* They were bred to assist fishermen by retrieving fish, boats, and other gear.\n",
      "* The name \"Labrador\" comes from the French word \"labrador,\" meaning \"land of flowers.\"\n",
      "\n",
      "**Physical Characteristics:**\n",
      "\n",
      "* Coat: Short, dense, and water-resistant coat that can be black, yellow, or chocolate in color.\n",
      "* Size: Males typically weigh between 65-80 pounds (29-36 kg) and stand 22.5-24.5 inches (57-62 cm) tall at the shoulder.\n",
      "* Females are smaller, weighing around 55-70 pounds (25-32 kg).\n",
      "* Eyes: Dark brown, almond-shaped eyes that are expressive and attentive.\n",
      "\n",
      "**Personality:**\n",
      "\n",
      "* Friendly, outgoing, and gentle nature makes them excellent family dogs.\n",
      "* Highly intelligent and trainable, making them popular as guide dogs, search and rescue dogs, and service dogs.\n",
      "* Energetic and playful, but also enjoy relaxing with their owners.\n",
      "* Love people and are quick to form close bonds.\n",
      "\n",
      "**Health:**\n",
      "\n",
      "* Labrador Retriever is generally a healthy breed, but prone to certain health issues:\n",
      "\t+ Hip dysplasia\n",
      "\t+ Elbow dysplasia\n",
      "\t+ Obesity (due to overfeeding or lack of exercise)\n",
      "\t+ Eye problems (e.g., cataracts, progressive retinal atrophy)\n",
      "\t+ Cancer (especially osteosarcoma and lymphoma)\n",
      "\n",
      "**Grooming:**\n",
      "\n",
      "* Short coat requires minimal grooming, but regular brushing can help prevent matting.\n",
      "* Nail trimming and ear cleaning are essential for their overall health.\n",
      "\n",
      "**Exercise and Training:**\n",
      "\n",
      "* Need regular exercise to stay happy and healthy:\n",
      "\t+ Daily walks (30-60 minutes)\n",
      "\t+ Playtime in the yard or park\n",
      "\t+ Engage in physical activities like swimming, hiking, or fetch\n",
      "* Highly trainable, but consistency and positive reinforcement are key.\n",
      "\n",
      "**Family Life:**\n",
      "\n",
      "* Excellent with children due to their gentle nature.\n",
      "* Can adapt to apartment living if provided regular exercise and attention.\n",
      "* Enjoy being part of a family and often thrive as a \"velcro dog\" (attached to their owners).\n",
      "\n",
      "Overall, the Labrador Retriever is an incredible breed that makes an excellent companion for active families or individuals. With proper care, training, and socialization, they'll bring joy and love into your life for years to come!\n"
     ]
    }
   ],
   "source": [
    "print(result.messages[-1].content)"
   ]
  },
  {
   "cell_type": "code",
   "execution_count": null,
   "id": "a0f42c4a",
   "metadata": {},
   "outputs": [],
   "source": []
  }
 ],
 "metadata": {
  "kernelspec": {
   "display_name": "autogen-env",
   "language": "python",
   "name": "python3"
  },
  "language_info": {
   "codemirror_mode": {
    "name": "ipython",
    "version": 3
   },
   "file_extension": ".py",
   "mimetype": "text/x-python",
   "name": "python",
   "nbconvert_exporter": "python",
   "pygments_lexer": "ipython3",
   "version": "3.11.13"
  }
 },
 "nbformat": 4,
 "nbformat_minor": 5
}
