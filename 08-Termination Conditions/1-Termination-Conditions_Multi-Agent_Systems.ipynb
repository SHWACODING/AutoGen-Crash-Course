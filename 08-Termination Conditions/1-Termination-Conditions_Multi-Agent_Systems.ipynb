{
 "cells": [
  {
   "cell_type": "markdown",
   "id": "df460f4f",
   "metadata": {},
   "source": [
    "### Multi Agent-Systems\n",
    "- A team is a group of agents that work together to achieve a common goal"
   ]
  },
  {
   "cell_type": "code",
   "execution_count": 1,
   "id": "29e4d927",
   "metadata": {},
   "outputs": [],
   "source": [
    "import os\n",
    "from dotenv import load_dotenv\n",
    "\n",
    "load_dotenv()\n",
    "\n",
    "os.environ[\"OPENROUTER_API_KEY\"] = os.getenv(\"OPENROUTER_API_KEY\")"
   ]
  },
  {
   "cell_type": "code",
   "execution_count": 2,
   "id": "e1ade69c",
   "metadata": {},
   "outputs": [],
   "source": [
    "from autogen_ext.models.openai import OpenAIChatCompletionClient\n",
    "\n",
    "model_client = OpenAIChatCompletionClient(\n",
    "    base_url=\"https://openrouter.ai/api/v1\",\n",
    "    model=\"mistralai/mistral-small-3.2-24b-instruct:free\",\n",
    "    api_key=os.getenv(\"OPENROUTER_API_KEY\"),\n",
    "    model_info={\n",
    "        \"family\": \"mistral\",\n",
    "        \"vision\": True,\n",
    "        \"function_calling\": True,\n",
    "        \"json_output\": False,\n",
    "        \"structured_output\": False\n",
    "    }\n",
    ")"
   ]
  },
  {
   "cell_type": "code",
   "execution_count": 3,
   "id": "806863fb",
   "metadata": {},
   "outputs": [
    {
     "data": {
      "text/plain": [
       "<autogen_ext.models.openai._openai_client.OpenAIChatCompletionClient at 0x24ca2b99790>"
      ]
     },
     "execution_count": 3,
     "metadata": {},
     "output_type": "execute_result"
    }
   ],
   "source": [
    "model_client"
   ]
  },
  {
   "cell_type": "markdown",
   "id": "cfbd5d0c",
   "metadata": {},
   "source": [
    "#### Multi Agent Team Approach - With Trmination Condictions\n",
    "- We will be using 4 agents to now write the story, each with its own work and mastery"
   ]
  },
  {
   "cell_type": "code",
   "execution_count": 4,
   "id": "0264fb1a",
   "metadata": {},
   "outputs": [],
   "source": [
    "from autogen_agentchat.agents import AssistantAgent"
   ]
  },
  {
   "cell_type": "code",
   "execution_count": 5,
   "id": "7b07cf19",
   "metadata": {},
   "outputs": [],
   "source": [
    "plot_agent = AssistantAgent(\n",
    "    name=\"plot_writer\",\n",
    "    model_client=model_client,\n",
    "    system_message=\"You create engaging plots for stories. Focus on the Pokemon's journey\"\n",
    ")"
   ]
  },
  {
   "cell_type": "code",
   "execution_count": 6,
   "id": "a15ce238",
   "metadata": {},
   "outputs": [],
   "source": [
    "character_agent = AssistantAgent(\n",
    "    name=\"character_writer\",\n",
    "    model_client=model_client,\n",
    "    system_message=\"You develop characters. Describe the pokemon and the villian in detail, including their motivations and backgrounds.\"\n",
    ")"
   ]
  },
  {
   "cell_type": "code",
   "execution_count": 7,
   "id": "abb83734",
   "metadata": {},
   "outputs": [],
   "source": [
    "ending_agent = AssistantAgent(\n",
    "    name=\"ending_writer\",\n",
    "    model_client=model_client,\n",
    "    system_message=\"You wrute engaging endings. conclude the story with a twist.\"\n",
    ")"
   ]
  },
  {
   "cell_type": "code",
   "execution_count": 8,
   "id": "0ea275ae",
   "metadata": {},
   "outputs": [],
   "source": [
    "review_agent = AssistantAgent(\n",
    "    name = 'review_writer',\n",
    "    model_client=model_client,\n",
    "    system_message=\"You have to say 'APPROVE' once the story is complete and you like the full flow else provide your feedback.\"\n",
    ")"
   ]
  },
  {
   "cell_type": "markdown",
   "id": "2e4b9d84",
   "metadata": {},
   "source": [
    "#### Termination Conditions :\n",
    "- Termination Conditions Is Used In Simple Terms and The Name Suggest To Terminate The Team To Complete The Task as If We Didnot Set **max_turns** Would Run Lots Of Time and May Be More Than Needed That Costs You Only."
   ]
  },
  {
   "cell_type": "code",
   "execution_count": 9,
   "id": "c202db67",
   "metadata": {},
   "outputs": [],
   "source": [
    "from autogen_agentchat.conditions import MaxMessageTermination, TextMentionTermination\n",
    "\n",
    "termination_condition = MaxMessageTermination(10) | TextMentionTermination('APPROVE')"
   ]
  },
  {
   "cell_type": "markdown",
   "id": "6747217d",
   "metadata": {},
   "source": [
    "#### **RoundRobinGroupChat** \n",
    "- Is a simple yet effective team configuration where all agents share the same context and take turns responding in a round-robin fashion. Each agent, during its turn, broadcasts its response to all other agents, ensuring that the entire team maintains a consistent context."
   ]
  },
  {
   "cell_type": "code",
   "execution_count": 10,
   "id": "6e42e59a",
   "metadata": {},
   "outputs": [],
   "source": [
    "from autogen_agentchat.teams import RoundRobinGroupChat\n",
    "\n",
    "team = RoundRobinGroupChat(\n",
    "    participants=[plot_agent, character_agent, ending_agent, review_agent],\n",
    "    termination_condition=termination_condition\n",
    ")"
   ]
  },
  {
   "cell_type": "code",
   "execution_count": 11,
   "id": "4598c6d2",
   "metadata": {},
   "outputs": [
    {
     "data": {
      "text/plain": [
       "<autogen_agentchat.teams._group_chat._round_robin_group_chat.RoundRobinGroupChat at 0x24ca2d83390>"
      ]
     },
     "execution_count": 11,
     "metadata": {},
     "output_type": "execute_result"
    }
   ],
   "source": [
    "team"
   ]
  },
  {
   "cell_type": "code",
   "execution_count": 12,
   "id": "ed70596a",
   "metadata": {},
   "outputs": [
    {
     "data": {
      "text/plain": [
       "'team'"
      ]
     },
     "execution_count": 12,
     "metadata": {},
     "output_type": "execute_result"
    }
   ],
   "source": [
    "team.component_type"
   ]
  },
  {
   "cell_type": "code",
   "execution_count": 13,
   "id": "1679f429",
   "metadata": {},
   "outputs": [
    {
     "name": "stdout",
     "output_type": "stream",
     "text": [
      "id='aa2628e1-2eaa-489e-a1c0-0e18b76a4630' source='user' models_usage=None metadata={} created_at=datetime.datetime(2025, 8, 4, 23, 6, 18, 491652, tzinfo=datetime.timezone.utc) content='Write a short poem about the fall season.' type='TextMessage'\n",
      "id='798eb235-f7de-44eb-9250-3969351544fd' source='plot_writer' models_usage=RequestUsage(prompt_tokens=28, completion_tokens=142) metadata={} created_at=datetime.datetime(2025, 8, 4, 23, 6, 24, 650864, tzinfo=datetime.timezone.utc) content=\"In the realm where autumn's whispers call,\\nA dance of leaves, a vivid ball.\\nCrimson, gold, the trees take flight,\\nPainting skies with fleeting light.\\n\\nCrisp the air, a chilly breeze,\\nRustling through the rustling leaves.\\nPumpkins grin, their lanterns glow,\\nOn this calm and winding road.\\n\\nFootsteps crunch on fallen hues,\\nThrough the woods, my journey views.\\nEvery path, a tale untold,\\nIn this season, brave and bold.\\n\\nSo I walk, with heart alight,\\nIn the beauty, pure and bright.\\nFor in autumn's embrace, I find,\\nWarmth and wonder, soul entwined.\" type='TextMessage'\n",
      "id='da71a7a7-7af3-4a37-84ba-818b9251c4dd' source='character_writer' models_usage=RequestUsage(prompt_tokens=178, completion_tokens=696) metadata={} created_at=datetime.datetime(2025, 8, 4, 23, 6, 42, 968529, tzinfo=datetime.timezone.utc) content='**Pokemon:**\\n\\n**Eldrin, the Feline Pine Phoenix**\\n\\nEldrin is a towering, majestic creature, resembling a cross between a cat and a mythical phoenix. Its body is covered in crimson and gold feathers that shimmer like autumn leaves, while its eyes glow with an ancient wisdom. Eldrin possesses four wings, two large ones that allow it to soar through the skies and two smaller ones that help it maneuver with grace and precision. Its tail, adorned with feathers like a peacock, fans out in a stunning display of colors when it is happy or ready for battle.\\n\\nEldrin is a playful yet wise Pokémon who values friendship and the bonds it forms with others. It is fiercely protective of its friends and will go to great lengths to ensure their safety. Eldrin\\'s motivation is to help others understand the beauty of change and the importance of embracing new beginnings. Its background is mysterious; it is said to have hatched from an ancient egg found in a hidden grove, nurtured by the spirits of the forest.\\n\\nEldrin\\'s signature move, \"Autumn\\'s Embrace,\" allows it to encapsulate its foes in a swirling vortex of leaves, inhibiting their movements and leaving them vulnerable. Additionally, it can cast \"Emberfall,\" a powerful Fire-type move that jungle gyms flames around its body, creating a stunning visual spectacle.\\n\\n**Villain:**\\n\\n**Ignis the Pyre King**\\n\\nIgnis is a towering figure, his body encased in flame-resistant armor adorned with intricate carvings that depict fiery scenes of conquest and destruction. His eyes burn with an intense, unwavering determination, and his hair flows like molten lava, the heat from his body radiating outwards, warping the air around him. He wields a massive, flaming greatsword, capable of unleashing devastating attacks and controlling fire with precision and ease.\\n\\nOnce a renowned Fire-type trainer, Ignis sought to harness the power of Eldrin to fuel his ambition of becoming the strongest trainer in the region. His relentless pursuit of power and control led him down a dark path, causing him to betray his friends and allies in his quest for supremacy. After a dramatic showdown with Eldrin, Ignis was markedly injured, his body marked by burns and his spirit consumed by bitterness. He vowed to exact revenge on Eldrin and those who stand in his way.\\n\\nIgnis\\'s motivation is driven by his desire for power and redemption. He believes that by harnessing Eldrin\\'s strength and the power of the ancient phoenix that dwells within it, he can cleanse the world of weakness and create a new era of strength and prosperity. His background is one of tragedy and loss, as he watched his loved ones perish in a devastating fire, driving him to the brink of madness.\\n\\nIgnis\\'s signature move, \"Infernal Wrath,\" channels the full force of his fiery essence, creating an explosive shockwave that engulfs everything in its path. As a trainer, Ignis relies on a diverse team of Fire, Dark, and Ghost-type Pokémon, each one attuned to his dark desires and amplified by his malicious intent. To defeat Ignis and put an end to his reign of terror, trainers must confront their own fears and uncover the truth behind his darkness, offering a path to redemption and forgiveness.' type='TextMessage'\n",
      "id='84349208-a716-4e22-9756-8c4bb8b94a13' source='ending_writer' models_usage=RequestUsage(prompt_tokens=868, completion_tokens=558) metadata={} created_at=datetime.datetime(2025, 8, 4, 23, 7, 0, 271402, tzinfo=datetime.timezone.utc) content='As Eldrin and its newfound friends stood victorious on the battlefield, they hoped that their hard work paid off and that they had successfully pressurized the remnants of Ignis\\'s surprisingly inactive army. The once-destructive trainer\\'s fiery aura had been extinguished, and his body lay motionless on the charred ground.\\n\\n**But as the sun dipped below the horizon**, casting long shadows across the land, **a sinister chuckle echoed through the air**.\\n\\n\"Fools,\" a voice rasped, barely more than a whisper. Eldrin\\'s eyes shot open, the glow in them intensifying as it surveyed its companions, all of whom had taken off towards Igins. \"You think this is over?\"\\n\\nA sudden gust of wind swept through the battlefield, and the remnants of Ignis\\'s armor began to glow with a dark, pulsating light. The charred earth cracked and split, and from the fissures, shadowy tendrils snaked their way towards the fallen trainer.\\n\\nBefore anyone could react, the tendrils enveloped Ignis\\'s body, and in an instant, he was gone. In his place stood a monstrous fusion of man and flame, his eyes now burning with an even more intense fire.\\n\\n\"People,\" the creature growled.  \"Are truly... contemptible. I was being.\"  The beast lifted a giant flame-arm into the air, pointing straight at the center of the defenders.\\n\\n\"Remade.\"\\n\\n**For out of nowhere, the creature suddenly stopps and addresses them face to face.**\\n\\n\"Should I have said Thank you?. It\\'s not about pain, it\\'s about growth.\" He took a step back. \"All of this happening is by my will. All of it.\"\\n\\n**With that, the creature spreads the enormous, flailing wings that splayed from its back and takes flight.**\\n\\n\"None of you understand.\" The beast suddenly stops.  \"You\\'ll have to forgive me, but, I have to do it. Again.\" With that, the creature disappears in a blazing rush.\\n\\n**Back on the field,** Eldrin\\'s eyes dart between the conflagration and their party. \"Perhaps he\\'s right, but that\\'s why we wouldn\\'t have emerged from this battle victorious no matter the outcome. That\\'s how one grows and regains themselves. By fighting. You shouldn\\'t worry. An offense against the strenses obscured by fire will always succumb to the flames.\"\\n\\nThen, Eldrin turned to the party and smiled.\\n\\n\"It\\'s not about pain, it\\'s about growth.\"\\n\\nAnd so the beast that had emerged from the fiery center after regaining themselves, now glowed with a multicolored hue as everything came together for one final prircing battle and enthusiastic Hug.' type='TextMessage'\n",
      "id='60242cd1-e6c3-4ecb-9254-bdeb4853fddb' source='review_writer' models_usage=RequestUsage(prompt_tokens=1438, completion_tokens=4) metadata={} created_at=datetime.datetime(2025, 8, 4, 23, 7, 4, 22414, tzinfo=datetime.timezone.utc) content='APPROVE' type='TextMessage'\n",
      "Stop Reason: Text 'APPROVE' mentioned\n"
     ]
    }
   ],
   "source": [
    "from autogen_agentchat.base import TaskResult\n",
    "\n",
    "# When running inside a script, use a async main function and call it from `asyncio.run(...)`.\n",
    "\n",
    "await team.reset()  # Reset the team for a new task.\n",
    "\n",
    "async for message in team.run_stream(task=\"Write a short poem about the fall season.\"):\n",
    "    if isinstance(message, TaskResult):\n",
    "        print(\"Stop Reason:\", message.stop_reason)\n",
    "    else:\n",
    "        print(message)"
   ]
  },
  {
   "cell_type": "code",
   "execution_count": 14,
   "id": "ec4256fe",
   "metadata": {},
   "outputs": [
    {
     "name": "stdout",
     "output_type": "stream",
     "text": [
      "id='90408721-6854-4c06-a70a-8151913d644c' source='user' models_usage=None metadata={} created_at=datetime.datetime(2025, 8, 4, 23, 7, 4, 48878, tzinfo=datetime.timezone.utc) content='Write a short poem about the fall season APPROVE.' type='TextMessage'\n",
      "Stop Reason: Text 'APPROVE' mentioned\n"
     ]
    }
   ],
   "source": [
    "from autogen_agentchat.base import TaskResult\n",
    "\n",
    "# When running inside a script, use a async main function and call it from `asyncio.run(...)`.\n",
    "\n",
    "await team.reset()  # Reset the team for a new task.\n",
    "\n",
    "#### Take Care APPROVE Added To The task ????? 😂\n",
    "async for message in team.run_stream(task=\"Write a short poem about the fall season APPROVE.\"):\n",
    "    if isinstance(message, TaskResult):\n",
    "        print(\"Stop Reason:\", message.stop_reason)\n",
    "    else:\n",
    "        print(message)"
   ]
  }
 ],
 "metadata": {
  "kernelspec": {
   "display_name": "autogen-env",
   "language": "python",
   "name": "python3"
  },
  "language_info": {
   "codemirror_mode": {
    "name": "ipython",
    "version": 3
   },
   "file_extension": ".py",
   "mimetype": "text/x-python",
   "name": "python",
   "nbconvert_exporter": "python",
   "pygments_lexer": "ipython3",
   "version": "3.11.13"
  }
 },
 "nbformat": 4,
 "nbformat_minor": 5
}
