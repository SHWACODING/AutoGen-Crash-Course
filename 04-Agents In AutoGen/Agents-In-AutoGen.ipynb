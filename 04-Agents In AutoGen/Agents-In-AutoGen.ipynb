{
 "cells": [
  {
   "cell_type": "markdown",
   "id": "b32a52ed",
   "metadata": {},
   "source": [
    "### Agents in Autogen"
   ]
  },
  {
   "cell_type": "code",
   "execution_count": 1,
   "id": "f8f3e6fe",
   "metadata": {},
   "outputs": [],
   "source": [
    "from autogen_agentchat.agents import AssistantAgent\n",
    "from autogen_ext.models.ollama import OllamaChatCompletionClient\n",
    "from autogen_agentchat.messages import TextMessage"
   ]
  },
  {
   "cell_type": "code",
   "execution_count": 2,
   "id": "532b7494",
   "metadata": {},
   "outputs": [],
   "source": [
    "model_client = OllamaChatCompletionClient(model=\"llama3.2\")"
   ]
  },
  {
   "cell_type": "code",
   "execution_count": 3,
   "id": "f370b656",
   "metadata": {},
   "outputs": [
    {
     "data": {
      "text/plain": [
       "<autogen_ext.models.ollama._ollama_client.OllamaChatCompletionClient at 0x236e5cfc390>"
      ]
     },
     "execution_count": 3,
     "metadata": {},
     "output_type": "execute_result"
    }
   ],
   "source": [
    "model_client"
   ]
  },
  {
   "cell_type": "code",
   "execution_count": 4,
   "id": "4213a8a6",
   "metadata": {},
   "outputs": [],
   "source": [
    "async def web_search(query: str) -> str:\n",
    "    \"\"\"\n",
    "    Find information on the web\n",
    "    \"\"\"\n",
    "    return \"The Labrador Retriever or simply Labrador is a British breed of retriever gun dog. \""
   ]
  },
  {
   "cell_type": "code",
   "execution_count": 5,
   "id": "d96a5e7a",
   "metadata": {},
   "outputs": [],
   "source": [
    "tools = [web_search]"
   ]
  },
  {
   "cell_type": "code",
   "execution_count": 6,
   "id": "699eb512",
   "metadata": {},
   "outputs": [],
   "source": [
    "agent = AssistantAgent(\n",
    "    name=\"assistant\",\n",
    "    model_client=model_client,\n",
    "    tools=tools,\n",
    "    system_message=\"Use Tools To Solve Tasks\",\n",
    "    description=\"Agent That Uses Tools To Solve Tasks\"\n",
    ")"
   ]
  },
  {
   "cell_type": "code",
   "execution_count": 7,
   "id": "25277394",
   "metadata": {},
   "outputs": [
    {
     "data": {
      "text/plain": [
       "<autogen_agentchat.agents._assistant_agent.AssistantAgent at 0x236e731d790>"
      ]
     },
     "execution_count": 7,
     "metadata": {},
     "output_type": "execute_result"
    }
   ],
   "source": [
    "agent"
   ]
  },
  {
   "cell_type": "code",
   "execution_count": 8,
   "id": "183d89ef",
   "metadata": {},
   "outputs": [
    {
     "name": "stdout",
     "output_type": "stream",
     "text": [
      "The Labrador Retriever or simply Labrador is a British breed of retriever gun dog. \n"
     ]
    }
   ],
   "source": [
    "response = await agent.run(task=\"Find Information about Labrador Retriever\")\n",
    "\n",
    "print(response.messages[-1].content)"
   ]
  },
  {
   "cell_type": "markdown",
   "id": "902fc5b1",
   "metadata": {},
   "source": [
    "#### Basic Messages\n",
    "- on_messages()"
   ]
  },
  {
   "cell_type": "code",
   "execution_count": 9,
   "id": "a5572d8a",
   "metadata": {},
   "outputs": [
    {
     "name": "stdout",
     "output_type": "stream",
     "text": [
      "[ToolCallRequestEvent(id='3259a46e-3292-48d9-bb66-85006573b89e', source='assistant', models_usage=RequestUsage(prompt_tokens=230, completion_tokens=21), metadata={}, created_at=datetime.datetime(2025, 8, 4, 15, 28, 8, 101751, tzinfo=datetime.timezone.utc), content=[FunctionCall(id='1', arguments='{\"query\": \"Labrador Retriever\"}', name='web_search')], type='ToolCallRequestEvent'), ToolCallExecutionEvent(id='869ccb80-9b37-4d4e-824f-0083952ce3ed', source='assistant', models_usage=None, metadata={}, created_at=datetime.datetime(2025, 8, 4, 15, 28, 8, 107751, tzinfo=datetime.timezone.utc), content=[FunctionExecutionResult(content='The Labrador Retriever or simply Labrador is a British breed of retriever gun dog. ', name='web_search', call_id='1', is_error=False)], type='ToolCallExecutionEvent')]\n",
      "\n",
      "\n",
      "============================================\n",
      "\n",
      "\n",
      "id='bc05977d-a3b6-4cea-bf34-63c2107b1bd0' source='assistant' models_usage=None metadata={} created_at=datetime.datetime(2025, 8, 4, 15, 28, 8, 107751, tzinfo=datetime.timezone.utc) content='The Labrador Retriever or simply Labrador is a British breed of retriever gun dog. ' type='ToolCallSummaryMessage' tool_calls=[FunctionCall(id='1', arguments='{\"query\": \"Labrador Retriever\"}', name='web_search')] results=[FunctionExecutionResult(content='The Labrador Retriever or simply Labrador is a British breed of retriever gun dog. ', name='web_search', call_id='1', is_error=False)]\n"
     ]
    }
   ],
   "source": [
    "from autogen_core import CancellationToken\n",
    "\n",
    "async def assistent_run() -> None:\n",
    "    response = await agent.on_messages(\n",
    "        messages=[TextMessage(content='Find information about Labrador Retriever', source='User')],\n",
    "        cancellation_token=CancellationToken()\n",
    "    )\n",
    "    \n",
    "    print(response.inner_messages)\n",
    "    print(\"\\n\\n============================================\\n\\n\")\n",
    "    print(response.chat_message)\n",
    "\n",
    "await assistent_run()"
   ]
  },
  {
   "cell_type": "markdown",
   "id": "8ef3a8ba",
   "metadata": {},
   "source": [
    "#### Streaming Messages\n",
    "- on_messages_stream()"
   ]
  },
  {
   "cell_type": "code",
   "execution_count": 10,
   "id": "68b7d34c",
   "metadata": {},
   "outputs": [
    {
     "name": "stdout",
     "output_type": "stream",
     "text": [
      "---------- ToolCallRequestEvent (assistant) ----------\n",
      "[FunctionCall(id='2', arguments='{\"query\": \"Labrador Retriever\"}', name='web_search')]\n",
      "[Prompt tokens: 294, Completion tokens: 21]\n",
      "---------- ToolCallExecutionEvent (assistant) ----------\n",
      "[FunctionExecutionResult(content='The Labrador Retriever or simply Labrador is a British breed of retriever gun dog. ', name='web_search', call_id='2', is_error=False)]\n",
      "---------- assistant ----------\n",
      "The Labrador Retriever or simply Labrador is a British breed of retriever gun dog. \n",
      "---------- Summary ----------\n",
      "Number of inner messages: 2\n",
      "Total prompt tokens: 294\n",
      "Total completion tokens: 21\n",
      "Duration: 55.52 seconds\n"
     ]
    }
   ],
   "source": [
    "from autogen_agentchat.ui import Console\n",
    "\n",
    "async def assistant_run_stream() -> None:\n",
    "    await Console(\n",
    "        agent.on_messages_stream(\n",
    "            messages=[TextMessage(content='Find information about Labrador Retriever via the tool', source='User')],\n",
    "            cancellation_token=CancellationToken()\n",
    "        ),\n",
    "        output_stats=True  # Enable Stats Printing ??\n",
    "    )\n",
    "\n",
    "await assistant_run_stream()"
   ]
  },
  {
   "cell_type": "code",
   "execution_count": 11,
   "id": "351f76ce",
   "metadata": {},
   "outputs": [
    {
     "name": "stdout",
     "output_type": "stream",
     "text": [
      "---------- ToolCallRequestEvent (assistant) ----------\n",
      "[FunctionCall(id='3', arguments='{\"query\": \"Labrador Retriever\"}', name='web_search')]\n",
      "[Prompt tokens: 356, Completion tokens: 21]\n",
      "---------- ToolCallExecutionEvent (assistant) ----------\n",
      "[FunctionExecutionResult(content='The Labrador Retriever or simply Labrador is a British breed of retriever gun dog. ', name='web_search', call_id='3', is_error=False)]\n",
      "---------- assistant ----------\n",
      "The Labrador Retriever or simply Labrador is a British breed of retriever gun dog. \n",
      "---------- Summary ----------\n",
      "Number of inner messages: 2\n",
      "Total prompt tokens: 356\n",
      "Total completion tokens: 21\n",
      "Duration: 25.69 seconds\n"
     ]
    }
   ],
   "source": [
    "from autogen_agentchat.ui import Console\n",
    "\n",
    "async def assistant_run_stream() -> None:\n",
    "    await Console(\n",
    "        agent.on_messages_stream(\n",
    "            messages=[TextMessage(content='What was the last question i asked?', source='User')],\n",
    "            cancellation_token=CancellationToken()\n",
    "        ),\n",
    "        output_stats=True  # Enable Stats Printing ??\n",
    "    )\n",
    "\n",
    "await assistant_run_stream()"
   ]
  },
  {
   "cell_type": "code",
   "execution_count": null,
   "id": "181dc36b",
   "metadata": {},
   "outputs": [],
   "source": []
  }
 ],
 "metadata": {
  "kernelspec": {
   "display_name": "autogen-env",
   "language": "python",
   "name": "python3"
  },
  "language_info": {
   "codemirror_mode": {
    "name": "ipython",
    "version": 3
   },
   "file_extension": ".py",
   "mimetype": "text/x-python",
   "name": "python",
   "nbconvert_exporter": "python",
   "pygments_lexer": "ipython3",
   "version": "3.11.13"
  }
 },
 "nbformat": 4,
 "nbformat_minor": 5
}
