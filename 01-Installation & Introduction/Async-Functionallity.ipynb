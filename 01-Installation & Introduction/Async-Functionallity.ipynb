{
 "cells": [
  {
   "cell_type": "markdown",
   "id": "120aaa1c",
   "metadata": {},
   "source": [
    "### Async Functionality in Python\n",
    "- We want to have coffee and bagel in the morning after waking up"
   ]
  },
  {
   "cell_type": "markdown",
   "id": "f09fc3bf",
   "metadata": {},
   "source": [
    "#### 1- Synchronous or Normal Version"
   ]
  },
  {
   "cell_type": "code",
   "execution_count": 1,
   "id": "77a7980f",
   "metadata": {},
   "outputs": [
    {
     "name": "stdout",
     "output_type": "stream",
     "text": [
      "Brewing Coffee\n",
      "Coffee Ready\n",
      "Toasting Bagel\n",
      "Bagel Ready\n",
      "Time : 5.06 minutes\n"
     ]
    }
   ],
   "source": [
    "import time\n",
    "\n",
    "def brew_coffee():\n",
    "    print(\"Brewing Coffee\")\n",
    "    time.sleep(3) # 3 Minutes\n",
    "    print(\"Coffee Ready\")\n",
    "\n",
    "def toast_bagel():\n",
    "    print(\"Toasting Bagel\")\n",
    "    time.sleep(2) # 2 Minutes\n",
    "    print(\"Bagel Ready\")\n",
    "\n",
    "\n",
    "def main():\n",
    "    start = time.time()\n",
    "\n",
    "    brew_coffee()\n",
    "    # time.sleep(2)\n",
    "    toast_bagel()\n",
    "\n",
    "    end = time.time()\n",
    "\n",
    "\n",
    "    print(f\"Time : {end - start:.2f} minutes\")\n",
    "\n",
    "main()"
   ]
  },
  {
   "cell_type": "markdown",
   "id": "bfd04adb",
   "metadata": {},
   "source": [
    "#### 2- Asynchronous Version"
   ]
  },
  {
   "cell_type": "code",
   "execution_count": 2,
   "id": "285e397d",
   "metadata": {},
   "outputs": [
    {
     "name": "stdout",
     "output_type": "stream",
     "text": [
      "Starting Brewing Coffee\n",
      "Start Toasting bagel\n",
      "Bagel Ready\n",
      "Coffee Ready\n",
      "Time : 3.01 minutes\n"
     ]
    }
   ],
   "source": [
    "import asyncio\n",
    "import time\n",
    "\n",
    "async def brew_coffee():\n",
    "    print(\"Starting Brewing Coffee\")\n",
    "    await asyncio.sleep(3)\n",
    "    print(\"Coffee Ready\")\n",
    "\n",
    "async def toast_bagel():\n",
    "    print(\"Start Toasting bagel\")\n",
    "    await asyncio.sleep(2)\n",
    "    print(\"Bagel Ready\")\n",
    "\n",
    "\n",
    "async def main():\n",
    "    start = time.time()\n",
    "\n",
    "    coffee = brew_coffee()\n",
    "    bagel = toast_bagel()\n",
    "\n",
    "    await asyncio.gather(coffee,bagel)\n",
    "\n",
    "    end = time.time()\n",
    "\n",
    "    print(f\"Time : {end - start:.2f} minutes\")\n",
    "\n",
    "\n",
    "await main()"
   ]
  },
  {
   "cell_type": "markdown",
   "id": "914d35f1",
   "metadata": {},
   "source": [
    "With Tasks ??"
   ]
  },
  {
   "cell_type": "code",
   "execution_count": 3,
   "id": "50a28faf",
   "metadata": {},
   "outputs": [
    {
     "name": "stdout",
     "output_type": "stream",
     "text": [
      "Starting Brewing Coffee\n",
      "Start Toasting bagel\n",
      "Bagel Ready\n",
      "Coffee Ready\n",
      "Time : 3.01 minutes\n"
     ]
    }
   ],
   "source": [
    "import asyncio\n",
    "import time\n",
    "\n",
    "async def brew_coffee_async():\n",
    "    print(\"Starting Brewing Coffee\")\n",
    "    await asyncio.sleep(3)\n",
    "    print(\"Coffee Ready\")\n",
    "\n",
    "async def toast_bagel_async():\n",
    "    print(\"Start Toasting bagel\")\n",
    "    await asyncio.sleep(2)\n",
    "    print(\"Bagel Ready\")\n",
    "\n",
    "async def main_individual():\n",
    "    start = time.time()\n",
    "    coffee_task = asyncio.create_task(brew_coffee_async())\n",
    "    bagel_task = asyncio.create_task(toast_bagel_async())\n",
    "\n",
    "    _ = await coffee_task\n",
    "    _ = await bagel_task\n",
    "\n",
    "    end = time.time()\n",
    "    \n",
    "    print(f\"Time : {end - start:.2f} minutes\")\n",
    "\n",
    "\n",
    "await (main_individual())"
   ]
  },
  {
   "cell_type": "code",
   "execution_count": null,
   "id": "0d2fb4ba",
   "metadata": {},
   "outputs": [],
   "source": []
  }
 ],
 "metadata": {
  "kernelspec": {
   "display_name": "autogen-env",
   "language": "python",
   "name": "python3"
  },
  "language_info": {
   "codemirror_mode": {
    "name": "ipython",
    "version": 3
   },
   "file_extension": ".py",
   "mimetype": "text/x-python",
   "name": "python",
   "nbconvert_exporter": "python",
   "pygments_lexer": "ipython3",
   "version": "3.11.13"
  }
 },
 "nbformat": 4,
 "nbformat_minor": 5
}
