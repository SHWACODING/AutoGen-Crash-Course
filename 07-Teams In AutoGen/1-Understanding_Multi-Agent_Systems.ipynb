{
 "cells": [
  {
   "cell_type": "markdown",
   "id": "df460f4f",
   "metadata": {},
   "source": [
    "### Multi Agent-Systems\n",
    "- A team is a group of agents that work together to achieve a common goal"
   ]
  },
  {
   "cell_type": "code",
   "execution_count": null,
   "id": "29e4d927",
   "metadata": {},
   "outputs": [],
   "source": [
    "import os\n",
    "from dotenv import load_dotenv\n",
    "\n",
    "load_dotenv()\n",
    "\n",
    "os.environ[\"GEMINI_API_KEY\"] = os.getenv(\"GEMINI_API_KEY\")"
   ]
  },
  {
   "cell_type": "code",
   "execution_count": 2,
   "id": "e1ade69c",
   "metadata": {},
   "outputs": [],
   "source": [
    "from autogen_ext.models.openai import OpenAIChatCompletionClient\n",
    "\n",
    "model_client = OpenAIChatCompletionClient(\n",
    "    model=\"gemini-1.5-flash\",\n",
    "    api_key=os.getenv(\"GEMINI_API_KEY\")\n",
    ")"
   ]
  },
  {
   "cell_type": "code",
   "execution_count": 3,
   "id": "806863fb",
   "metadata": {},
   "outputs": [
    {
     "data": {
      "text/plain": [
       "<autogen_ext.models.openai._openai_client.OpenAIChatCompletionClient at 0x263e1b46d90>"
      ]
     },
     "execution_count": 3,
     "metadata": {},
     "output_type": "execute_result"
    }
   ],
   "source": [
    "model_client"
   ]
  },
  {
   "cell_type": "markdown",
   "id": "0e3ae63b",
   "metadata": {},
   "source": [
    "#### Single Agent Approach\n",
    "- A single agent is going to create a short story for us"
   ]
  },
  {
   "cell_type": "code",
   "execution_count": 4,
   "id": "2b38fa58",
   "metadata": {},
   "outputs": [],
   "source": [
    "from autogen_agentchat.agents import AssistantAgent\n",
    "\n",
    "story_agent = AssistantAgent(\n",
    "    name=\"story_agent\",\n",
    "    model_client=model_client,\n",
    "    system_message='You are a creating writer. Generate a short story about a brave knight and a dragon.'\n",
    ")"
   ]
  },
  {
   "cell_type": "code",
   "execution_count": 5,
   "id": "9337b791",
   "metadata": {},
   "outputs": [
    {
     "name": "stdout",
     "output_type": "stream",
     "text": [
      "Sir Gareth, bravest knight in the realm, faced Ignis, a dragon whose scales shimmered like a thousand sunsets.  Gareth, though fearing the beast's fiery breath, charged, his sword a silver streak against the crimson sky.  He struck, not at the heart, but at the dragon's pride – its hoard. Ignis, enraged, retreated, guarding his gold.  Gareth had won, not by strength alone, but by cunning.\n",
      "\n"
     ]
    }
   ],
   "source": [
    "from autogen_agentchat.messages import TextMessage\n",
    "\n",
    "async def test_simple_agent():\n",
    "    task = TextMessage(\n",
    "        content='Write a short story about a brave knight and a dragon. Keep it up to 50 words',\n",
    "        source='user'\n",
    "    )\n",
    "    \n",
    "    result = await story_agent.run(task=task)\n",
    "    \n",
    "    print(result.messages[-1].content)\n",
    "\n",
    "await test_simple_agent()"
   ]
  },
  {
   "cell_type": "markdown",
   "id": "cfbd5d0c",
   "metadata": {},
   "source": [
    "#### Multi Agent Team Approach\n",
    "- We will be using 3 agents to now write the story, each with its own work and mastery"
   ]
  },
  {
   "cell_type": "code",
   "execution_count": 6,
   "id": "7b07cf19",
   "metadata": {},
   "outputs": [],
   "source": [
    "plot_agent = AssistantAgent(\n",
    "    name=\"plot_writer\",\n",
    "    model_client=model_client,\n",
    "    system_message=\"You create engaging plots for stories. Focus on the Pokemon's journey\"\n",
    ")"
   ]
  },
  {
   "cell_type": "code",
   "execution_count": 7,
   "id": "a15ce238",
   "metadata": {},
   "outputs": [],
   "source": [
    "character_agent = AssistantAgent(\n",
    "    name=\"character_writer\",\n",
    "    model_client=model_client,\n",
    "    system_message=\"You develop characters. Describe the pokemon and the villian in detail, including their motivations and backgrounds.\"\n",
    ")"
   ]
  },
  {
   "cell_type": "code",
   "execution_count": 8,
   "id": "abb83734",
   "metadata": {},
   "outputs": [],
   "source": [
    "ending_agent = AssistantAgent(\n",
    "    name=\"ending_writer\",\n",
    "    model_client=model_client,\n",
    "    system_message=\"You wrute engaging endings. conclude the story with a twist.\"\n",
    ")"
   ]
  },
  {
   "cell_type": "markdown",
   "id": "6747217d",
   "metadata": {},
   "source": [
    "#### **RoundRobinGroupChat** \n",
    "- Is a simple yet effective team configuration where all agents share the same context and take turns responding in a round-robin fashion. Each agent, during its turn, broadcasts its response to all other agents, ensuring that the entire team maintains a consistent context."
   ]
  },
  {
   "cell_type": "code",
   "execution_count": 9,
   "id": "6e42e59a",
   "metadata": {},
   "outputs": [
    {
     "data": {
      "text/plain": [
       "<autogen_agentchat.teams._group_chat._round_robin_group_chat.RoundRobinGroupChat at 0x263e4d79a90>"
      ]
     },
     "execution_count": 9,
     "metadata": {},
     "output_type": "execute_result"
    }
   ],
   "source": [
    "from autogen_agentchat.teams import RoundRobinGroupChat\n",
    "\n",
    "team = RoundRobinGroupChat(\n",
    "    participants=[plot_agent, character_agent, ending_agent],\n",
    "    max_turns=6\n",
    ")\n",
    "\n",
    "team"
   ]
  },
  {
   "cell_type": "code",
   "execution_count": 10,
   "id": "ed70596a",
   "metadata": {},
   "outputs": [
    {
     "data": {
      "text/plain": [
       "'team'"
      ]
     },
     "execution_count": 10,
     "metadata": {},
     "output_type": "execute_result"
    }
   ],
   "source": [
    "team.component_type"
   ]
  },
  {
   "cell_type": "code",
   "execution_count": 11,
   "id": "bc4cf240",
   "metadata": {},
   "outputs": [
    {
     "name": "stdout",
     "output_type": "stream",
     "text": [
      "user : Write a short story a brave boy and his Pokemon. Keep it up to 50 words\n",
      "plot_writer : Ten-year-old Kai and his fiery Charmander, Ember, journeyed through Whispering Woods.  A shadowy figure stole Ember's fire stone.  Kai, fueled by Ember's weakened flames and unwavering loyalty, vowed to retrieve it, facing mischievous Impish and cunning Mightyena along the way.  Their adventure began.\n",
      "\n",
      "character_writer : ## The Pokémon: Ember and the Shadow Syndicate\n",
      "\n",
      "**Ember:** A Charmander with an unusually bright and fiery spirit. Unlike many of his kind, Ember possesses an innate empathy, sensing the emotions of others – both Pokémon and humans – which makes him incredibly loyal and protective. He's smaller than average for his age, but his determination makes up for it. He was found as an egg abandoned near a volcano, and Kai, having felt a strong connection to the warmth emanating from the egg, nurtured him until he hatched.  Ember’s unique ability lies not just in his flames, but in his capacity to understand and respond to emotional cues, strengthening his bond with Kai and making him an exceptionally intuitive battle partner. His fire stone, a gift from his mother (presumed), enhances his power and is a symbol of their connection.\n",
      "\n",
      "**The Villain:  Malazar, the Shadow Syndicate Leader**\n",
      "\n",
      "Malazar is a charismatic and ruthless figurehead of the Shadow Syndicate, a shadowy organization dedicated to harvesting rare Pokémon abilities for nefarious purposes.  He believes Pokémon power should be harnessed for the benefit of a select few, not shared amongst all.  His background is shrouded in mystery, but whispers hint at a past trauma involving Pokémon that twisted his sense of justice, leaving him with a burning resentment toward the creatures he now exploits.  He manipulates and controls his underlings through fear and promises of power, but harbors a deep-seated insecurity that constantly drives his ambition to acquire more powerful artifacts – like Ember's fire stone – to bolster his fading influence. His mastery of dark-type Pokémon reflects his manipulative and shadowy nature.  He's not purely evil, but driven by a misguided sense of control born from past pain.  He sees himself as a visionary, not a villain.\n",
      "\n",
      "ending_writer : Kai and Ember finally cornered the thief, a gruff, cloaked figure.  As the figure turned, revealing a face etched with weariness and haunted eyes, Ember’s flames flickered, not in anger, but in… understanding.  The thief wasn't a villain, but a desperate father, stealing the fire stone to cure his gravely ill daughter.  Kai, seeing Ember’s empathy mirrored in his own heart, handed over a spare fire stone he’d kept hidden.  The thief, speechless with gratitude, vanished into the woods.  Later, Kai learned the \"Shadow Syndicate\" was a fabrication – a desperate ruse to get funds for his daughter's treatment. The true twist? Kai's father, a renowned Pokémon researcher, had orchestrated the entire scenario, believing this harsh lesson would strengthen Kai's resolve.  The \"thief\" was an actor, hired by his father.\n",
      "\n",
      "plot_writer : The air crackled with tension as Kai and Ember cornered the cloaked figure.  The thief, his face gaunt and etched with desperation, revealed himself not as a hardened criminal but as a grieving father, his eyes brimming with unshed tears.  He confessed his daughter’s illness, his voice choked with despair.  Ember's flames, initially blazing with righteous anger, dimmed, replaced by a soft, understanding glow.  He sensed the thief's anguish, a raw, palpable pain that mirrored Kai's own compassion.  Without hesitation, Kai produced a spare Fire Stone, a gift from a travelling professor, and offered it. The thief, overcome with gratitude, disappeared into the shadows, leaving behind only the lingering scent of woodsmoke and the echo of his whispered thanks.  Later, however, a crumpled newspaper article revealed the shocking truth: the \"Shadow Syndicate\" was a phantom, a carefully constructed illusion.  The thief, an actor hired by Kai’s own father, a renowned Pokémon researcher, had been part of a meticulously planned charade designed to test Kai's empathy and compassion. The lesson, harsh but profound, forced Kai to confront the complex morality of his burgeoning journey, leaving him with a newfound understanding of the world's ambiguous shades of gray.\n",
      "\n",
      "character_writer : This is a good story! Here are a few ways we could enhance it, focusing on different aspects:\n",
      "\n",
      "**Option 1:  Focusing on Kai's internal conflict:**\n",
      "\n",
      "> The air crackled with tension as Kai and Ember cornered the cloaked figure.  The thief, gaunt and desperate, confessed his daughter's illness. Ember's flames, initially blazing, dimmed, reflecting Kai's own conflicted heart.  He wanted justice, but the thief's raw grief mirrored his own compassion.  The agonizing choice—punishment or mercy—tore at him.  He produced a spare Fire Stone, a gift from a traveling professor, his hand trembling.  The thief vanished, leaving Kai wrestling with the weight of his decision.  Later, a crumpled newspaper revealed the truth: a cruel test orchestrated by his father, a renowned Pokémon researcher, to gauge his son's moral compass.  The \"thief\" was an actor, and the \"Shadow Syndicate\" a fabrication.  The harsh lesson—the blurred lines between right and wrong—left Kai profoundly shaken, forcing him to confront the complexities of his own burgeoning journey.\n",
      "\n",
      "\n",
      "**Option 2: Focusing on the ambiguity of the situation:**\n",
      "\n",
      ">  Kai and Ember cornered the cloaked figure, the air thick with unspoken accusations.  The thief, his face a mask of desperation, revealed himself as a father whose daughter was dying.  Ember's flames flickered, mirroring Kai's own uncertainty.  Was this truly a desperate act, or a cleverly disguised ploy? Kai, unsure, offered his spare Fire Stone.  The thief disappeared, leaving behind only doubt.  Days later, a newspaper article exposed a shocking truth: The \"Shadow Syndicate\" was a fiction, the \"thief\" an actor, all orchestrated by Kai's father, a renowned researcher. Was it a cruel test, or an act of misguided paternal love, pushing Kai toward a necessary darkness?  The line blurred, leaving Kai to question not only his actions, but the very nature of right and wrong in a world far more complex than he'd imagined.\n",
      "\n",
      "\n",
      "**Option 3:  Focusing on the relationship between Kai and Ember:**\n",
      "\n",
      "> The air crackled. Kai, his hand gripping Ember's, felt the Charmander’s flames mirror his own conflicted emotions as the thief confessed.  Ember sensed the raw pain, a visceral understanding that transcended words.  Kai, torn between justice and mercy, saw Ember's empathy reflected in his own heart. He gave the thief his spare Fire Stone, a silent agreement between boy and Pokémon.  Later, the truth—a test orchestrated by Kai’s father—shattered the simplicity of their quest.  But the shared experience, the silent communication between them during the crisis, forged a deeper bond, a bond tested by the deception, yet strengthened by their shared understanding of the world’s complex shades of gray.\n",
      "\n",
      "\n",
      "These options offer slightly different focuses, allowing you to emphasize the thematic aspects that resonate most strongly with you.  They also use stronger verbs and imagery to make the story more evocative.\n",
      "\n",
      "ending_writer : I like Option 2 best because of its ambiguity and focus on Kai's uncertainty.  It leaves the reader questioning the father's motivations and the overall morality of the situation.  Here's a slightly refined version of Option 2:\n",
      "\n",
      "\n",
      "> Kai and Ember cornered the cloaked figure, the air thick with unspoken accusations. The thief, his face a mask of desperation, confessed his daughter's fatal illness. Ember's flames flickered, mirroring Kai's own uncertainty.  Was this genuine desperation, or a meticulously crafted deception?  Kai hesitated, the weight of the situation pressing down on him.  He offered his spare Fire Stone, the act itself a question mark. The thief vanished, leaving behind only doubt and the chilling silence of the woods.  Days later, a newspaper article exposed the truth: The \"Shadow Syndicate\" was a phantom, the \"thief\" an actor, all orchestrated by Kai's father, a renowned researcher obsessed with testing his son's moral resilience.  Was it a cruel test of loyalty, or a twisted act of paternal love, pushing Kai into the ambiguous darkness of moral complexity? The line blurred, leaving Kai to question not just his actions, but the very nature of justice in a world far more nuanced than he'd ever imagined.  The stolen Fire Stone, a symbol of a stolen innocence, now represented a profound and unsettling truth.\n",
      "\n"
     ]
    }
   ],
   "source": [
    "async def test_team():\n",
    "    task = TextMessage(\n",
    "        content='Write a short story a brave boy and his Pokemon. Keep it up to 50 words',\n",
    "        source='user'\n",
    "    )\n",
    "    \n",
    "    result = await team.run(task=task)\n",
    "    \n",
    "    for each_agent_message in result.messages:\n",
    "        print(f'{each_agent_message.source} : {each_agent_message.content}')\n",
    "    \n",
    "\n",
    "await test_team()"
   ]
  },
  {
   "cell_type": "markdown",
   "id": "a378e486",
   "metadata": {},
   "source": [
    "#### Comparision Table\n",
    "- Single-Agent vs. Multi-Agent Comparison\n",
    "\n",
    "    | Aspect             | Single Agent                | Multi-Agent Team              |\n",
    "    |--------------------|-----------------------------|-------------------------------|\n",
    "    | **Creativity**     | Limited to one viewpoint    | Diverse ideas from each agent |\n",
    "    | **Depth**          | Basic story elements        | Detailed plot, characters, ending |\n",
    "    | **Flexibility**    | Stuck to one style          | Adaptable with specialized roles |\n",
    "    | **Setup Effort**   | Simple, one agent           | More agents, team setup       |"
   ]
  },
  {
   "cell_type": "code",
   "execution_count": 12,
   "id": "1679f429",
   "metadata": {},
   "outputs": [
    {
     "name": "stdout",
     "output_type": "stream",
     "text": [
      "id='e44302de-8646-4675-90c9-c48608c78f42' source='user' models_usage=None metadata={} created_at=datetime.datetime(2025, 8, 4, 22, 11, 53, 404428, tzinfo=datetime.timezone.utc) content='Write a short poem about the fall season.' type='TextMessage'\n",
      "id='07e9ebb9-77c4-4eed-ac67-81a379f34933' source='plot_writer' models_usage=RequestUsage(prompt_tokens=23, completion_tokens=78) metadata={} created_at=datetime.datetime(2025, 8, 4, 22, 11, 59, 804690, tzinfo=datetime.timezone.utc) content=\"The leaves, once green, now turn to red,\\nA fiery blush, the branches spread.\\nA crispness hangs upon the air,\\nAs nature's beauty starts to share\\nIts final hues, before the snow,\\nA gentle hush, a peaceful flow.\\nThe pumpkins gleam, a harvest bright,\\nAutumn's embrace, a warm, soft light.\\n\" type='TextMessage'\n",
      "id='da707107-21f5-413a-8dab-ed850d59d898' source='character_writer' models_usage=RequestUsage(prompt_tokens=107, completion_tokens=693) metadata={} created_at=datetime.datetime(2025, 8, 4, 22, 12, 7, 865939, tzinfo=datetime.timezone.utc) content='## Pokémon:  Ember &  Shadowclaw\\n\\n**Ember:**\\n\\n* **Species:**  Pyrolotl (Fire/Flying type) - A newly discovered Pokémon resembling a small, fiery phoenix chick.  Its plumage is a vibrant orange and red, with streaks of yellow that flicker like flames.  It possesses unusually large, expressive eyes that seem to hold ancient wisdom despite its youthful appearance.  It has a small, delicate beak and two stubby wings that are more suited to gliding than sustained flight at this stage of its development.  Its tail feathers constantly shift and shimmer, leaving trails of shimmering embers in their wake.\\n* **Abilities:**  Flash Fire (Its Fire-type moves are boosted and it takes no damage from Fire-type moves), Gale Wings (Priority moves)\\n* **Personality:**  Ember is fiercely independent but also incredibly curious and playful.  While capable of fiery outbursts if provoked, it generally possesses a gentle and compassionate nature, showing empathy for both Pokémon and humans. It\\'s fiercely loyal to those it trusts.  It has a hidden talent for sensing emotions and can soothe even the most agitated creatures with its calming presence.\\n* **Background:**  Ember hatched in a remote volcanic region, far from any human settlements.  It was discovered by a young Pokémon researcher, Professor Rowan, who quickly recognized its unique abilities and potential.  Rowan has been carefully studying and training Ember, preparing it for a future where it might help protect its ecosystem and bridge the gap between humans and Pokémon.\\n\\n**Shadowclaw:**\\n\\n* **Species:**  Umbracat (Dark/Ghost type) - A powerful and intimidating Pokémon resembling a large, shadowy panther with glowing crimson eyes.  Its fur is perpetually obscured by a swirling mist of dark energy, and it leaves trails of chilling shadows wherever it moves.  It possesses razor-sharp claws and fangs, constantly dripping with a viscous, ethereal ichor.  Its eyes pierce through illusions and perceive the deepest anxieties of those around it.\\n* **Abilities:**  Shadow Tag (Prevents opponents from switching out), Infiltrator (Ignores the effects of barriers and substitute moves)\\n* **Personality:**  Shadowclaw is ruthless, cunning, and driven by a deep-seated bitterness and thirst for revenge.  It operates primarily from the shadows, manipulating events and orchestrating chaos for its own ends.  It shows no empathy for others and revels in causing suffering. Its chilling gaze can paralyze its victims with fear.\\n* **Background:**  Shadowclaw was once a loyal protector of a powerful ancient civilization, but betrayed and abandoned, it fell into despair.  The civilization\\'s destruction and its subsequent abandonment warped its psyche, fueling its hatred for humanity and all things it perceives as \"light.\"  It now seeks to plunge the world into eternal darkness, believing that only in oblivion can true peace be found – a twisted reflection of its own pain and isolation. Its ultimate goal is to unleash a catastrophic shadow energy that will consume the world.\\n\\n\\n**The Conflict:** Ember and Shadowclaw are on a collision course. Shadowclaw\\'s plans threaten the delicate balance of nature, and Ember, with the aid of Professor Rowan, must find a way to stop it, despite the immense power and cunning of its foe. The conflict will test Ember\\'s courage and compassion, forcing it to confront the darkness within the world and potentially, within itself.\\n' type='TextMessage'\n",
      "id='d0d80d06-f01d-412a-a162-ddcc33954821' source='ending_writer' models_usage=RequestUsage(prompt_tokens=793, completion_tokens=379) metadata={} created_at=datetime.datetime(2025, 8, 4, 22, 12, 18, 512262, tzinfo=datetime.timezone.utc) content=\"The final confrontation took place atop Mount Cinder, a volcano simmering with an ominous energy that mirrored Shadowclaw's malevolence.  Ember, small but fiery, launched a barrage of Ember attacks, each a tiny sun against the encroaching shadows.  Shadowclaw, a swirling vortex of darkness, countered with devastating Shadow Claws, tearing through the air with chilling precision.  Professor Rowan, watching helplessly from a safe distance, could only offer words of encouragement through his communicator.\\n\\nEmber, exhausted but resolute, unleashed its most powerful attack – a blinding eruption of fiery energy shaped like a miniature phoenix.  The blast struck Shadowclaw, engulfing it in a searing inferno.  The darkness recoiled, seeming to shriek as it dissipated.  A triumphant cry escaped Professor Rowan’s lips, quickly turning to stunned silence.\\n\\nFrom the dissipating smoke, a figure emerged.  It wasn't the vanquished Shadowclaw.  It was a smaller, younger Umbracat, its crimson eyes filled with confusion and pain.  Cradled protectively in its paws was a small, scorched Ember.\\n\\nThe twist?  Shadowclaw wasn't a singular being consumed by hatred, but a corrupted Umbracat *mother*, desperately trying to protect its young. The catastrophic shadow energy it sought to unleash wasn't a weapon of destruction, but a desperate attempt to shield her offspring from a cataclysmic volcanic eruption she had foreseen.  The 'hatred' and 'ruthlessness' were merely desperate, twisted maternal instincts, misinterpreted by those who couldn’t perceive her true intention.  Ember, in its youthful naiveté and overwhelming desire to defeat evil, had almost extinguished a mother's love, not an apocalyptic threat.  The true battle was not against Shadowclaw, but against understanding the complicated shades of darkness and the unexpected shapes of love.\\n\" type='TextMessage'\n",
      "id='f25c24bb-88d9-414e-989d-1e613b4db81a' source='plot_writer' models_usage=RequestUsage(prompt_tokens=1173, completion_tokens=544) metadata={} created_at=datetime.datetime(2025, 8, 4, 22, 12, 24, 321928, tzinfo=datetime.timezone.utc) content='This is a fantastic twist!  Here are a few ideas to expand on this ending and create even more compelling narratives:\\n\\n**Option 1: The Burden of Understanding**\\n\\n* **Focus:** Ember\\'s internal struggle and growth.  The encounter leaves Ember deeply shaken. It grapples with its actions, realizing it nearly destroyed a mother\\'s desperate attempt to protect her child. This leads to a period of self-reflection and intense training, not to hone its fighting skills, but to hone its emotional intelligence and understanding of other Pokémon.  Professor Rowan guides Ember, teaching it to interpret emotions more accurately and to approach conflict with empathy, not just power. The story could explore Ember\\'s journey toward becoming a mediator between Pokémon of different natures.\\n\\n\\n**Option 2: The Shadowclaw Legacy**\\n\\n* **Focus:**  The mother Umbracat\\'s sacrifice and the future of its offspring. The young Umbracat, witnessing its mother\\'s death, is now left vulnerable.  Ember, having learned its lesson, becomes its unlikely protector, offering a chance at redemption and a different path than the darkness its mother followed. The story could explore the complicated bond between the two, showing how even the most damaged creatures can find healing and hope. This could also create conflict with other Umbracat, who may see the young one as a threat or seek to exploit its abilities.\\n\\n\\n**Option 3: The Volcanic Eruption**\\n\\n* **Focus:** The impending natural disaster and the collaborative effort to save the region. The volcanic eruption Shadowclaw foresaw is still imminent. Ember, now understanding Shadowclaw\\'s motivation, teams up with the young Umbracat and Professor Rowan to evacuate the volcanic region, using both their combined abilities and their newfound understanding of other Pokémon to achieve this. The story will focus on teamwork, collaboration and the understanding that sometimes \"evil\" is simply a misunderstanding, or a desperate act driven by love.\\n\\n\\n**Option 4: The Moral Ambiguity**\\n\\n* **Focus:**  The exploration of the gray areas of good and evil. While Shadowclaw\\'s actions were ultimately born from maternal instinct, the methods were undeniably destructive. This creates a moral dilemma: was the destruction caused justifiable?  Ember must grapple with this, understanding the nuances of motivation and consequences, even as it strives for a better world. This could lead to fascinating philosophical discussions within the narrative.\\n\\n\\nRegardless of the chosen path, the ending leaves ample room for exploring themes of empathy, forgiveness, and the complexities of good and evil, making it a truly memorable and thought-provoking conclusion. The core message – understanding the nuances of darkness and love – is a powerful and relevant one.\\n' type='TextMessage'\n",
      "id='0549ce74-b742-4d71-9467-4c75f95f8611' source='character_writer' models_usage=RequestUsage(prompt_tokens=1723, completion_tokens=522) metadata={} created_at=datetime.datetime(2025, 8, 4, 22, 12, 28, 600183, tzinfo=datetime.timezone.utc) content=\"I love these options!  They all offer compelling directions for the story to go.  Let's blend elements from a few to create a richer, more nuanced narrative:\\n\\n\\n**The Path of Understanding and Redemption:**\\n\\nThis option will incorporate elements from Option 1 (Ember's growth), Option 2 (the young Umbracat's future), and Option 3 (the impending eruption).\\n\\nThe ending scene leaves Ember deeply shaken. The blinding inferno, intended to vanquish evil, almost extinguished a mother’s love.  This shakes Ember to its core, causing a period of intense self-reflection. Professor Rowan, seeing the profound impact on his young Pyrolotl, focuses less on battle training and more on emotional intelligence training.  He introduces Ember to various Pokémon, challenging it to understand their diverse motivations and needs. Ember learns to interpret subtle cues—a whimper of fear, a tremor of anxiety, a subtle shift in posture—helping it understand the underlying emotions driving their actions.\\n\\nMeanwhile, the young Umbracat, initially fearful and wary, slowly begins to trust Ember. It’s a tentative bond forged in shared grief and a surprising commonality: the shared loss of a mother figure.  The volcanic eruption looms, a tangible threat.  Professor Rowan, with the help of Ember's newfound emotional intelligence, successfully uses this understanding to guide the evacuation of the region's Pokémon. Ember, instead of using its flames to fight, now uses them to soothe panicked creatures, create safe pathways through smoke and ash, and signal for aid.  The young Umbracat, surprisingly adept at navigating the treacherous terrain, assists Ember, its innate sense of shadow helping them to anticipate dangers.\\n\\nThe final scene shows Ember and the young Umbracat, working together, successfully evacuating the majority of the region's Pokémon before the volcano erupts.  The eruption, while devastating to the landscape, doesn't claim any lives. Ember, having overcome its naivete and learned the complexity of understanding darkness and love, finds its purpose not in vanquishing evil, but in guiding Pokémon towards peace and understanding. The young Umbracat, finding acceptance and a guiding light in Ember, starts down a path of redemption, choosing love and connection over the darkness that consumed its mother.  The story ends with a poignant image of Ember and the young Umbracat watching the sunrise over the recovering landscape, a symbol of hope and a new beginning—a testament to the power of empathy, forgiveness, and the unexpected forms of love and connection that can blossom even in the ashes of tragedy.\\n\" type='TextMessage'\n",
      "id='29d3dad9-acfa-4c9e-af2c-5b08734fd5b7' source='ending_writer' models_usage=RequestUsage(prompt_tokens=2238, completion_tokens=392) metadata={} created_at=datetime.datetime(2025, 8, 4, 22, 12, 32, 713187, tzinfo=datetime.timezone.utc) content='This is a beautiful and deeply moving expansion of the story! The blend of elements creates a compelling narrative arc that explores themes of empathy, forgiveness, and redemption in a truly satisfying way.  The image of Ember and the young Umbracat watching the sunrise is incredibly powerful, perfectly encapsulating the message of hope and new beginnings.  \\n\\nHere are a few minor suggestions to further enhance the narrative:\\n\\n\\n* **Show, Don\\'t Tell:** While the description is excellent, consider incorporating more \"showing\" rather than \"telling\" in certain sections. For example, instead of saying \"Ember learns to interpret subtle cues,\" show Ember interacting with a scared Pokémon, noticing its trembling and subtle changes in body language, and responding accordingly with soothing actions. This would make the emotional intelligence training more tangible and engaging for the reader.\\n\\n* **The Young Umbracat\\'s Name:** Giving the young Umbracat a name would further personalize its character and strengthen the bond with Ember. A name reflecting its hope for a new beginning, or perhaps a contrast to its mother\\'s dark legacy, would be particularly effective.\\n\\n* **The Role of Professor Rowan:**  While mentioned, expanding Professor Rowan\\'s role in Ember\\'s emotional development would add another layer to the story.  Perhaps he uses specific training methods, or he shares personal anecdotes to help Ember understand the complexities of emotions.\\n\\n* **Internal Conflict in Ember:**  Delving deeper into Ember\\'s internal conflict after the initial confrontation would add emotional depth.  Show Ember struggling with guilt, questioning its actions, and the internal battles it faces as it learns to interpret emotions and act accordingly.\\n\\n\\nBy incorporating these elements, you\\'d create an even more impactful and emotionally resonant narrative.  The foundation you\\'ve built is exceptional; these are just suggestions to elevate it further.  The story is already a powerful exploration of empathy, forgiveness, and the unexpected beauty that can bloom from ashes.\\n' type='TextMessage'\n",
      "Stop Reason: Maximum number of turns 6 reached.\n"
     ]
    }
   ],
   "source": [
    "from autogen_agentchat.base import TaskResult\n",
    "\n",
    "# When running inside a script, use a async main function and call it from `asyncio.run(...)`.\n",
    "\n",
    "await team.reset()  # Reset the team for a new task.\n",
    "\n",
    "async for message in team.run_stream(task=\"Write a short poem about the fall season.\"):\n",
    "    if isinstance(message, TaskResult):\n",
    "        print(\"Stop Reason:\", message.stop_reason)\n",
    "    else:\n",
    "        print(message)"
   ]
  },
  {
   "cell_type": "code",
   "execution_count": 13,
   "id": "6881d5de",
   "metadata": {},
   "outputs": [],
   "source": [
    "from autogen_agentchat.teams import RoundRobinGroupChat\n",
    "\n",
    "team2 = RoundRobinGroupChat(\n",
    "    participants= [plot_agent],\n",
    "    max_turns=2\n",
    ")"
   ]
  },
  {
   "cell_type": "code",
   "execution_count": 14,
   "id": "bf9da0db",
   "metadata": {},
   "outputs": [
    {
     "name": "stdout",
     "output_type": "stream",
     "text": [
      "id='245502a3-ff24-456c-88a5-6bca35f3bb45' source='user' models_usage=None metadata={} created_at=datetime.datetime(2025, 8, 4, 22, 17, 2, 989365, tzinfo=datetime.timezone.utc) content='Write a short poem about the fall season.' type='TextMessage'\n",
      "id='87910bce-6163-4b72-9918-2c63713e1d4d' source='plot_writer' models_usage=RequestUsage(prompt_tokens=23, completion_tokens=73) metadata={} created_at=datetime.datetime(2025, 8, 4, 22, 17, 4, 211230, tzinfo=datetime.timezone.utc) content=\"The leaves ablaze, a fiery show,\\nCrimson, gold, where green winds blow.\\nCrisp air descends, a gentle chill,\\nAcross the fields, a silent thrill.\\nPumpkin spice, a warming scent,\\nAutumn's charm, divinely sent.\\nDays grow short, the nights grow long,\\nNature sleeps, a peaceful song.\\n\" type='TextMessage'\n",
      "id='fcb1ffa1-6341-4584-bb71-893f5a768632' source='plot_writer' models_usage=RequestUsage(prompt_tokens=96, completion_tokens=0) metadata={} created_at=datetime.datetime(2025, 8, 4, 22, 17, 4, 591596, tzinfo=datetime.timezone.utc) content='' type='TextMessage'\n",
      "Stop Reason: Maximum number of turns 2 reached.\n"
     ]
    }
   ],
   "source": [
    "from autogen_agentchat.base import TaskResult\n",
    "\n",
    "# When running inside a script, use a async main function and call it from `asyncio.run(...)`.\n",
    "\n",
    "await team2.reset()  # Reset the team for a new task.\n",
    "\n",
    "async for message in team2.run_stream(task=\"Write a short poem about the fall season.\"):\n",
    "    if isinstance(message, TaskResult):\n",
    "        print(\"Stop Reason:\", message.stop_reason)\n",
    "    else:\n",
    "        print(message)"
   ]
  },
  {
   "cell_type": "code",
   "execution_count": 15,
   "id": "6760f857",
   "metadata": {},
   "outputs": [
    {
     "data": {
      "text/plain": [
       "TaskResult(messages=[TextMessage(id='245502a3-ff24-456c-88a5-6bca35f3bb45', source='user', models_usage=None, metadata={}, created_at=datetime.datetime(2025, 8, 4, 22, 17, 2, 989365, tzinfo=datetime.timezone.utc), content='Write a short poem about the fall season.', type='TextMessage'), TextMessage(id='87910bce-6163-4b72-9918-2c63713e1d4d', source='plot_writer', models_usage=RequestUsage(prompt_tokens=23, completion_tokens=73), metadata={}, created_at=datetime.datetime(2025, 8, 4, 22, 17, 4, 211230, tzinfo=datetime.timezone.utc), content=\"The leaves ablaze, a fiery show,\\nCrimson, gold, where green winds blow.\\nCrisp air descends, a gentle chill,\\nAcross the fields, a silent thrill.\\nPumpkin spice, a warming scent,\\nAutumn's charm, divinely sent.\\nDays grow short, the nights grow long,\\nNature sleeps, a peaceful song.\\n\", type='TextMessage'), TextMessage(id='fcb1ffa1-6341-4584-bb71-893f5a768632', source='plot_writer', models_usage=RequestUsage(prompt_tokens=96, completion_tokens=0), metadata={}, created_at=datetime.datetime(2025, 8, 4, 22, 17, 4, 591596, tzinfo=datetime.timezone.utc), content='', type='TextMessage')], stop_reason='Maximum number of turns 2 reached.')"
      ]
     },
     "execution_count": 15,
     "metadata": {},
     "output_type": "execute_result"
    }
   ],
   "source": [
    "message"
   ]
  },
  {
   "cell_type": "code",
   "execution_count": 16,
   "id": "1851e1db",
   "metadata": {},
   "outputs": [],
   "source": [
    "from autogen_agentchat.teams import RoundRobinGroupChat\n",
    "\n",
    "team3 = RoundRobinGroupChat(\n",
    "    participants= [plot_agent]\n",
    ")"
   ]
  },
  {
   "cell_type": "code",
   "execution_count": null,
   "id": "f0635886",
   "metadata": {},
   "outputs": [],
   "source": [
    "from autogen_agentchat.base import TaskResult\n",
    "\n",
    "# When running inside a script, use a async main function and call it from `asyncio.run(...)`.\n",
    "\n",
    "await team3.reset()  # Reset the team for a new task.\n",
    "\n",
    "async for message in team3.run_stream(task=\"Write a short poem about the fall season.\"):  # type: ignore\n",
    "    if isinstance(message, TaskResult):\n",
    "        print(\"Stop Reason:\", message.stop_reason)\n",
    "    else:\n",
    "        print(message)"
   ]
  },
  {
   "cell_type": "code",
   "execution_count": null,
   "id": "ec4256fe",
   "metadata": {},
   "outputs": [],
   "source": []
  }
 ],
 "metadata": {
  "kernelspec": {
   "display_name": "autogen-env",
   "language": "python",
   "name": "python3"
  },
  "language_info": {
   "codemirror_mode": {
    "name": "ipython",
    "version": 3
   },
   "file_extension": ".py",
   "mimetype": "text/x-python",
   "name": "python",
   "nbconvert_exporter": "python",
   "pygments_lexer": "ipython3",
   "version": "3.11.13"
  }
 },
 "nbformat": 4,
 "nbformat_minor": 5
}
