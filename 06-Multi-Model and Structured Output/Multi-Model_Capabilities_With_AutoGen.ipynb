{
 "cells": [
  {
   "cell_type": "markdown",
   "id": "229abc49",
   "metadata": {},
   "source": [
    "### Messages in Autogen v0.4\n",
    "- We can imaging messages as the way agent communicate - text our Friend.\n",
    "- When we communicate with the agents -----> sending a message when it responds ---> it too sends a message\n",
    "- TextMessage ImageMessage ToolMessage"
   ]
  },
  {
   "cell_type": "code",
   "execution_count": 1,
   "id": "3701deaf",
   "metadata": {},
   "outputs": [],
   "source": [
    "import os\n",
    "from dotenv import load_dotenv\n",
    "\n",
    "load_dotenv()\n",
    "\n",
    "os.environ[\"GEMINI_API_KEY\"] = os.getenv(\"GEMINI_API_KEY\")"
   ]
  },
  {
   "cell_type": "code",
   "execution_count": 2,
   "id": "d767529c",
   "metadata": {},
   "outputs": [],
   "source": [
    "import asyncio\n",
    "from autogen_agentchat.agents import AssistantAgent\n",
    "from autogen_ext.models.openai import OpenAIChatCompletionClient\n",
    "from autogen_agentchat.messages import TextMessage, MultiModalMessage\n",
    "from autogen_core import Image as AGImage\n",
    "\n",
    "from PIL import Image\n",
    "from io import BytesIO\n",
    "import requests"
   ]
  },
  {
   "cell_type": "code",
   "execution_count": 3,
   "id": "4451c508",
   "metadata": {},
   "outputs": [],
   "source": [
    "model_client = OpenAIChatCompletionClient(\n",
    "    model=\"gemini-1.5-flash\",\n",
    "    api_key=os.getenv(\"GEMINI_API_KEY\"),\n",
    "    model_info={\n",
    "        \"family\": \"gemini-1.5-flash\",\n",
    "        \"vision\": True,\n",
    "        \"function_calling\": True,\n",
    "        \"json_output\": False,\n",
    "        \"structured_output\": True\n",
    "    }\n",
    ")"
   ]
  },
  {
   "cell_type": "code",
   "execution_count": 4,
   "id": "f6be8601",
   "metadata": {},
   "outputs": [
    {
     "data": {
      "text/plain": [
       "<autogen_ext.models.openai._openai_client.OpenAIChatCompletionClient at 0x1d3060d8650>"
      ]
     },
     "execution_count": 4,
     "metadata": {},
     "output_type": "execute_result"
    }
   ],
   "source": [
    "model_client"
   ]
  },
  {
   "cell_type": "markdown",
   "id": "8247ef8e",
   "metadata": {},
   "source": [
    "#### Simplest Type of Message - TextMessage"
   ]
  },
  {
   "cell_type": "code",
   "execution_count": 5,
   "id": "45ceac98",
   "metadata": {},
   "outputs": [],
   "source": [
    "agent = AssistantAgent(\n",
    "    name=\"Text_Agent\",\n",
    "    model_client=model_client,\n",
    "    system_message='You are a helpful assistant. answer question accurately'\n",
    ")"
   ]
  },
  {
   "cell_type": "code",
   "execution_count": 6,
   "id": "6ec2a618",
   "metadata": {},
   "outputs": [
    {
     "data": {
      "text/plain": [
       "<autogen_agentchat.agents._assistant_agent.AssistantAgent at 0x1d3060d9690>"
      ]
     },
     "execution_count": 6,
     "metadata": {},
     "output_type": "execute_result"
    }
   ],
   "source": [
    "agent"
   ]
  },
  {
   "cell_type": "code",
   "execution_count": 8,
   "id": "def461b3",
   "metadata": {},
   "outputs": [
    {
     "name": "stdout",
     "output_type": "stream",
     "text": [
      "The Fast Fourier Transform (FFT) is an algorithm that computes the Discrete Fourier Transform (DFT) significantly faster than a direct evaluation of the DFT formula.  The DFT is a mathematical procedure that decomposes a sequence of values (often representing a signal sampled in time or space) into its constituent frequencies.  A direct DFT computation has a time complexity of O(N²), where N is the number of data points.  This becomes prohibitively slow for large datasets.  The FFT reduces this complexity to O(N log N), making it feasible to analyze much larger signals.\n",
      "\n",
      "Let's break down the key aspects:\n",
      "\n",
      "**1. The Discrete Fourier Transform (DFT):**\n",
      "\n",
      "The DFT takes a sequence of *N* complex numbers,  `x[0], x[1], ..., x[N-1]`, and transforms it into another sequence of *N* complex numbers, `X[0], X[1], ..., X[N-1]`, representing the frequency components.  The formula is:\n",
      "\n",
      "`X[k] = Σ_(n=0)^(N-1) x[n] * e^(-j2πkn/N)`\n",
      "\n",
      "where:\n",
      "\n",
      "* `k` is the frequency index (0 ≤ k ≤ N-1).  `k=0` represents the DC component (average value).\n",
      "* `n` is the time/space index (0 ≤ n ≤ N-1).\n",
      "* `j` is the imaginary unit (√-1).\n",
      "* `e^(-j2πkn/N)` is a complex exponential, representing a complex sinusoid at frequency `k`.\n",
      "\n",
      "Each `X[k]` is a complex number containing both magnitude (amplitude) and phase information for the frequency component `k`.\n",
      "\n",
      "**2. The Inefficiency of Direct DFT Computation:**\n",
      "\n",
      "The direct computation of the DFT involves calculating the above summation for each `k` (from 0 to N-1).  For each `k`, there are *N* multiplications and additions. Since there are *N* values of `k`, the total number of operations is proportional to N².  This becomes computationally expensive for large N.\n",
      "\n",
      "**3. The FFT's Divide-and-Conquer Approach:**\n",
      "\n",
      "The FFT's genius lies in its divide-and-conquer strategy. It cleverly exploits the symmetries and redundancies within the DFT formula to reduce computation.  The most common FFT algorithm is the Cooley-Tukey algorithm, which recursively breaks down the DFT of size *N* into smaller DFTs of size *N/2*, then *N/4*, and so on, until it reaches small DFTs that are trivial to compute.  This recursive splitting significantly reduces the number of operations.\n",
      "\n",
      "**4. Cooley-Tukey Algorithm (Radix-2):**\n",
      "\n",
      "The Radix-2 Cooley-Tukey algorithm is optimized for N being a power of 2 (e.g., 2, 4, 8, 16, ...).  It works by dividing the input sequence into even-indexed and odd-indexed subsequences, computing the DFT of each subsequence recursively, and then combining the results using a clever \"butterfly\" operation.  This butterfly operation efficiently interleaves and combines the results of the smaller DFTs.\n",
      "\n",
      "**5.  Other FFT Algorithms:**\n",
      "\n",
      "While the Radix-2 Cooley-Tukey is the most common, variations exist:\n",
      "\n",
      "* **Radix-4, Radix-8, etc.:**  These generalize the radix-2 approach to further improve efficiency for N that are powers of 4, 8, etc.\n",
      "* **Prime-factor FFT:**  Efficient for N that are products of small prime numbers.\n",
      "* **Bluestein's FFT:** Can handle arbitrary N (not necessarily a power of 2), but might be less efficient than Cooley-Tukey for power-of-2 sizes.\n",
      "\n",
      "**6.  Key Properties of the FFT:**\n",
      "\n",
      "* **Time Complexity:** O(N log N)\n",
      "* **Space Complexity:** Typically O(N) (in-place algorithms exist)\n",
      "* **Input/Output:**  The input and output are sequences of complex numbers.\n",
      "\n",
      "**7. Applications:**\n",
      "\n",
      "The FFT's speed and efficiency are crucial for many applications:\n",
      "\n",
      "* **Signal Processing:** Spectral analysis, filtering, convolution, correlation.\n",
      "* **Image Processing:** Image compression (JPEG), image filtering, edge detection.\n",
      "* **Audio Processing:** Audio compression (MP3), audio effects.\n",
      "* **Telecommunications:** Modulation, demodulation, channel equalization.\n",
      "* **Scientific Computing:** Solving differential equations, fast convolution.\n",
      "\n",
      "\n",
      "The FFT is a fundamental algorithm with wide-ranging applications across numerous scientific and engineering disciplines. Its efficiency revolutionized signal processing and continues to be a cornerstone of modern computing.\n",
      "\n"
     ]
    }
   ],
   "source": [
    "async def test_text_messages():\n",
    "    task = TextMessage(content=\"Expalin me in Details Fast Fourier Transform?\", source=\"user\")\n",
    "    response = await agent.run(task=task)\n",
    "    print(response.messages[-1].content)\n",
    "\n",
    "await test_text_messages()"
   ]
  },
  {
   "cell_type": "markdown",
   "id": "6c825fd4",
   "metadata": {},
   "source": [
    "#### More Complicated Message Than TextMessage - MultiModalMessage"
   ]
  },
  {
   "cell_type": "code",
   "execution_count": 9,
   "id": "70c4f2ae",
   "metadata": {},
   "outputs": [
    {
     "name": "stdout",
     "output_type": "stream",
     "text": [
      "That's an image of a waterfall cascading down a steep, rocky cliff face.  The scene is lush and green, indicating a moist, possibly rainforest-like environment.  The foreground shows dark, slate-like rocks and pebbles at the base of the waterfall.  The water appears to pool slightly at the bottom before continuing its flow.  The overall impression is one of a secluded, natural, and possibly somewhat remote location.\n",
      "\n"
     ]
    }
   ],
   "source": [
    "async def test_multi_model():\n",
    "    response = requests.get(\"https://picsum.photos/id/15/200/300\")  # 23 for the image of folks\n",
    "    pil_image = Image.open(BytesIO(response.content))\n",
    "    ag_image = AGImage(pil_image)\n",
    "    \n",
    "    multi_model_msg = MultiModalMessage(\n",
    "        content=[\"What is in the image?\", ag_image],\n",
    "        source=\"user\"\n",
    "    )\n",
    "    \n",
    "    result = await agent.run(task=multi_model_msg)\n",
    "    \n",
    "    print(result.messages[-1].content)\n",
    "\n",
    "await test_multi_model()"
   ]
  },
  {
   "cell_type": "code",
   "execution_count": null,
   "id": "afe984ee",
   "metadata": {},
   "outputs": [],
   "source": []
  }
 ],
 "metadata": {
  "kernelspec": {
   "display_name": "autogen-env",
   "language": "python",
   "name": "python3"
  },
  "language_info": {
   "codemirror_mode": {
    "name": "ipython",
    "version": 3
   },
   "file_extension": ".py",
   "mimetype": "text/x-python",
   "name": "python",
   "nbconvert_exporter": "python",
   "pygments_lexer": "ipython3",
   "version": "3.11.13"
  }
 },
 "nbformat": 4,
 "nbformat_minor": 5
}
