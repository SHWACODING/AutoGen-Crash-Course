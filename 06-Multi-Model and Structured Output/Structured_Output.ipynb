{
 "cells": [
  {
   "cell_type": "markdown",
   "id": "33b3c108",
   "metadata": {},
   "source": [
    "### Structured Output\n",
    "- \"Labrador is a breed of Dog\"\n",
    "- - { 'content':'Dog', 'species':'Labra' }"
   ]
  },
  {
   "cell_type": "code",
   "execution_count": 1,
   "id": "a9339bdf",
   "metadata": {},
   "outputs": [],
   "source": [
    "import os\n",
    "from dotenv import load_dotenv\n",
    "\n",
    "load_dotenv()\n",
    "\n",
    "os.environ[\"GEMINI_API_KEY\"] = os.getenv(\"GEMINI_API_KEY\")"
   ]
  },
  {
   "cell_type": "code",
   "execution_count": 2,
   "id": "f7c6e135",
   "metadata": {},
   "outputs": [],
   "source": [
    "from autogen_agentchat.agents import AssistantAgent\n",
    "from autogen_ext.models.openai import OpenAIChatCompletionClient\n",
    "from autogen_agentchat.messages import TextMessage"
   ]
  },
  {
   "cell_type": "code",
   "execution_count": 3,
   "id": "635cbc76",
   "metadata": {},
   "outputs": [],
   "source": [
    "from pydantic import BaseModel\n",
    "\n",
    "class PlanetInfo(BaseModel):\n",
    "    name: str\n",
    "    color: str\n",
    "    distance_miles: int"
   ]
  },
  {
   "cell_type": "markdown",
   "id": "669317d8",
   "metadata": {},
   "source": [
    "#### Unstrucuted Output Provided Output Based On System Message ??"
   ]
  },
  {
   "cell_type": "code",
   "execution_count": 4,
   "id": "6f9cbad3",
   "metadata": {},
   "outputs": [],
   "source": [
    "unstructured_model_client = OpenAIChatCompletionClient(\n",
    "    model=\"gemini-1.5-flash\",\n",
    "    api_key=os.getenv(\"GEMINI_API_KEY\"),\n",
    ")"
   ]
  },
  {
   "cell_type": "code",
   "execution_count": 5,
   "id": "0e49ae62",
   "metadata": {},
   "outputs": [],
   "source": [
    "agent = AssistantAgent(\n",
    "    name=\"planet_agent\",\n",
    "    model_client=unstructured_model_client,\n",
    "    system_message=\"You are a helpful assistant that provides information about planets. in the structure JSON\" \\\n",
    "    \"{ name :str\" \\\n",
    "    \"age : int\" \\\n",
    "    \"}\"\n",
    ")"
   ]
  },
  {
   "cell_type": "code",
   "execution_count": 6,
   "id": "1ea1d0f6",
   "metadata": {},
   "outputs": [
    {
     "name": "stdout",
     "output_type": "stream",
     "text": [
      "```json\n",
      "{\n",
      "  \"name\": \"Mars\",\n",
      "  \"surface_temperature\": {\n",
      "    \"average\": -63,\n",
      "    \"min\": -140,\n",
      "    \"max\": 20 \n",
      "  },\n",
      "  \"gravity\": 3.71,\n",
      "  \"diameter\": 6779,\n",
      "  \"mass\": 6.42e23,\n",
      "  \"moons\": [\"Phobos\", \"Deimos\"],\n",
      "  \"atmosphere\": {\n",
      "    \"composition\": {\n",
      "      \"carbon_dioxide\": 95.32,\n",
      "      \"nitrogen\": 2.7,\n",
      "      \"argon\": 1.6,\n",
      "      \"oxygen\": 0.13,\n",
      "      \"others\": 0.25\n",
      "    },\n",
      "    \"pressure\": 0.006\n",
      "  },\n",
      "  \"orbital_period\": 687,\n",
      "  \"rotation_period\": 24.6,\n",
      "  \"axial_tilt\": 25.19\n",
      "}\n",
      "```\n",
      "\n"
     ]
    }
   ],
   "source": [
    "async def test_unstructured_output():\n",
    "    task = TextMessage(content=\"Please provide information about Mars.\", source=\"user\")\n",
    "    \n",
    "    result = await agent.run(task=task)\n",
    "    \n",
    "    unstructured_response = result.messages[-1].content\n",
    "    \n",
    "    print(unstructured_response)\n",
    "\n",
    "await test_unstructured_output()"
   ]
  },
  {
   "cell_type": "markdown",
   "id": "d67b217f",
   "metadata": {},
   "source": [
    "#### Structed Output With Pydantic Class We Created ??"
   ]
  },
  {
   "cell_type": "code",
   "execution_count": 7,
   "id": "f93f0b17",
   "metadata": {},
   "outputs": [],
   "source": [
    "model_client = OpenAIChatCompletionClient(\n",
    "    model=\"gemini-1.5-flash\",\n",
    "    api_key=os.getenv(\"GEMINI_API_KEY\"),\n",
    "    response_format=PlanetInfo\n",
    ")"
   ]
  },
  {
   "cell_type": "code",
   "execution_count": 8,
   "id": "ba1998c6",
   "metadata": {},
   "outputs": [],
   "source": [
    "agent = AssistantAgent(\n",
    "    name=\"planet_agent\",\n",
    "    model_client=model_client,\n",
    "    system_message=\"You are a helpful assistant that provides information about planets. in the structure JSON\"\n",
    ")"
   ]
  },
  {
   "cell_type": "code",
   "execution_count": 9,
   "id": "d2c00154",
   "metadata": {},
   "outputs": [
    {
     "name": "stdout",
     "output_type": "stream",
     "text": [
      "{\"color\": \"red\", \"distance_miles\": 140000000, \"name\": \"Mars\"}\n"
     ]
    }
   ],
   "source": [
    "async def test_structured_output():\n",
    "    task = TextMessage(content = \"Please provide information about Mars.\", source='User')\n",
    "    \n",
    "    result = await agent.run(task=task)\n",
    "    \n",
    "    structured_response = result.messages[-1].content\n",
    "    \n",
    "    print(structured_response)\n",
    "\n",
    "await test_structured_output()"
   ]
  },
  {
   "cell_type": "code",
   "execution_count": null,
   "id": "1af127d1",
   "metadata": {},
   "outputs": [],
   "source": []
  }
 ],
 "metadata": {
  "kernelspec": {
   "display_name": "autogen-env",
   "language": "python",
   "name": "python3"
  },
  "language_info": {
   "codemirror_mode": {
    "name": "ipython",
    "version": 3
   },
   "file_extension": ".py",
   "mimetype": "text/x-python",
   "name": "python",
   "nbconvert_exporter": "python",
   "pygments_lexer": "ipython3",
   "version": "3.11.13"
  }
 },
 "nbformat": 4,
 "nbformat_minor": 5
}
